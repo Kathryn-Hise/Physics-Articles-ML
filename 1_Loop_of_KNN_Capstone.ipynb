{
  "nbformat": 4,
  "nbformat_minor": 0,
  "metadata": {
    "colab": {
      "provenance": [],
      "authorship_tag": "ABX9TyOHQG50ir5LERIf4tUw2k44",
      "include_colab_link": true
    },
    "kernelspec": {
      "name": "python3",
      "display_name": "Python 3"
    },
    "language_info": {
      "name": "python"
    }
  },
  "cells": [
    {
      "cell_type": "markdown",
      "metadata": {
        "id": "view-in-github",
        "colab_type": "text"
      },
      "source": [
        "<a href=\"https://colab.research.google.com/github/Kathryn-Hise/Physics-Articles-ML/blob/main/1_Loop_of_KNN_Capstone.ipynb\" target=\"_parent\"><img src=\"https://colab.research.google.com/assets/colab-badge.svg\" alt=\"Open In Colab\"/></a>"
      ]
    },
    {
      "cell_type": "markdown",
      "source": [
        "# Set Up"
      ],
      "metadata": {
        "id": "00qmc10tTHzI"
      }
    },
    {
      "cell_type": "markdown",
      "source": [
        "## Imports"
      ],
      "metadata": {
        "id": "TrOhnrkjN5cf"
      }
    },
    {
      "cell_type": "code",
      "source": [
        "import pandas as pd\n",
        "import numpy as np\n",
        "from sklearn.neighbors import KNeighborsClassifier\n",
        "from sklearn.model_selection import train_test_split\n",
        "from sklearn.metrics import confusion_matrix\n",
        "import matplotlib.pyplot as plt\n",
        "from sklearn.metrics import ConfusionMatrixDisplay, confusion_matrix\n",
        "import joblib"
      ],
      "metadata": {
        "id": "IPCp7Mohw00g"
      },
      "execution_count": null,
      "outputs": []
    },
    {
      "cell_type": "code",
      "source": [
        "from google.colab import files\n",
        "uploaded = files.upload()"
      ],
      "metadata": {
        "colab": {
          "base_uri": "https://localhost:8080/",
          "height": 73
        },
        "id": "SRbqlcO7w7_A",
        "outputId": "d1328f94-d7cc-4395-cf5a-246142844d20"
      },
      "execution_count": null,
      "outputs": [
        {
          "output_type": "display_data",
          "data": {
            "text/plain": [
              "<IPython.core.display.HTML object>"
            ],
            "text/html": [
              "\n",
              "     <input type=\"file\" id=\"files-b295fe73-4f0c-4c04-9392-ebbb6d87387b\" name=\"files[]\" multiple disabled\n",
              "        style=\"border:none\" />\n",
              "     <output id=\"result-b295fe73-4f0c-4c04-9392-ebbb6d87387b\">\n",
              "      Upload widget is only available when the cell has been executed in the\n",
              "      current browser session. Please rerun this cell to enable.\n",
              "      </output>\n",
              "      <script>// Copyright 2017 Google LLC\n",
              "//\n",
              "// Licensed under the Apache License, Version 2.0 (the \"License\");\n",
              "// you may not use this file except in compliance with the License.\n",
              "// You may obtain a copy of the License at\n",
              "//\n",
              "//      http://www.apache.org/licenses/LICENSE-2.0\n",
              "//\n",
              "// Unless required by applicable law or agreed to in writing, software\n",
              "// distributed under the License is distributed on an \"AS IS\" BASIS,\n",
              "// WITHOUT WARRANTIES OR CONDITIONS OF ANY KIND, either express or implied.\n",
              "// See the License for the specific language governing permissions and\n",
              "// limitations under the License.\n",
              "\n",
              "/**\n",
              " * @fileoverview Helpers for google.colab Python module.\n",
              " */\n",
              "(function(scope) {\n",
              "function span(text, styleAttributes = {}) {\n",
              "  const element = document.createElement('span');\n",
              "  element.textContent = text;\n",
              "  for (const key of Object.keys(styleAttributes)) {\n",
              "    element.style[key] = styleAttributes[key];\n",
              "  }\n",
              "  return element;\n",
              "}\n",
              "\n",
              "// Max number of bytes which will be uploaded at a time.\n",
              "const MAX_PAYLOAD_SIZE = 100 * 1024;\n",
              "\n",
              "function _uploadFiles(inputId, outputId) {\n",
              "  const steps = uploadFilesStep(inputId, outputId);\n",
              "  const outputElement = document.getElementById(outputId);\n",
              "  // Cache steps on the outputElement to make it available for the next call\n",
              "  // to uploadFilesContinue from Python.\n",
              "  outputElement.steps = steps;\n",
              "\n",
              "  return _uploadFilesContinue(outputId);\n",
              "}\n",
              "\n",
              "// This is roughly an async generator (not supported in the browser yet),\n",
              "// where there are multiple asynchronous steps and the Python side is going\n",
              "// to poll for completion of each step.\n",
              "// This uses a Promise to block the python side on completion of each step,\n",
              "// then passes the result of the previous step as the input to the next step.\n",
              "function _uploadFilesContinue(outputId) {\n",
              "  const outputElement = document.getElementById(outputId);\n",
              "  const steps = outputElement.steps;\n",
              "\n",
              "  const next = steps.next(outputElement.lastPromiseValue);\n",
              "  return Promise.resolve(next.value.promise).then((value) => {\n",
              "    // Cache the last promise value to make it available to the next\n",
              "    // step of the generator.\n",
              "    outputElement.lastPromiseValue = value;\n",
              "    return next.value.response;\n",
              "  });\n",
              "}\n",
              "\n",
              "/**\n",
              " * Generator function which is called between each async step of the upload\n",
              " * process.\n",
              " * @param {string} inputId Element ID of the input file picker element.\n",
              " * @param {string} outputId Element ID of the output display.\n",
              " * @return {!Iterable<!Object>} Iterable of next steps.\n",
              " */\n",
              "function* uploadFilesStep(inputId, outputId) {\n",
              "  const inputElement = document.getElementById(inputId);\n",
              "  inputElement.disabled = false;\n",
              "\n",
              "  const outputElement = document.getElementById(outputId);\n",
              "  outputElement.innerHTML = '';\n",
              "\n",
              "  const pickedPromise = new Promise((resolve) => {\n",
              "    inputElement.addEventListener('change', (e) => {\n",
              "      resolve(e.target.files);\n",
              "    });\n",
              "  });\n",
              "\n",
              "  const cancel = document.createElement('button');\n",
              "  inputElement.parentElement.appendChild(cancel);\n",
              "  cancel.textContent = 'Cancel upload';\n",
              "  const cancelPromise = new Promise((resolve) => {\n",
              "    cancel.onclick = () => {\n",
              "      resolve(null);\n",
              "    };\n",
              "  });\n",
              "\n",
              "  // Wait for the user to pick the files.\n",
              "  const files = yield {\n",
              "    promise: Promise.race([pickedPromise, cancelPromise]),\n",
              "    response: {\n",
              "      action: 'starting',\n",
              "    }\n",
              "  };\n",
              "\n",
              "  cancel.remove();\n",
              "\n",
              "  // Disable the input element since further picks are not allowed.\n",
              "  inputElement.disabled = true;\n",
              "\n",
              "  if (!files) {\n",
              "    return {\n",
              "      response: {\n",
              "        action: 'complete',\n",
              "      }\n",
              "    };\n",
              "  }\n",
              "\n",
              "  for (const file of files) {\n",
              "    const li = document.createElement('li');\n",
              "    li.append(span(file.name, {fontWeight: 'bold'}));\n",
              "    li.append(span(\n",
              "        `(${file.type || 'n/a'}) - ${file.size} bytes, ` +\n",
              "        `last modified: ${\n",
              "            file.lastModifiedDate ? file.lastModifiedDate.toLocaleDateString() :\n",
              "                                    'n/a'} - `));\n",
              "    const percent = span('0% done');\n",
              "    li.appendChild(percent);\n",
              "\n",
              "    outputElement.appendChild(li);\n",
              "\n",
              "    const fileDataPromise = new Promise((resolve) => {\n",
              "      const reader = new FileReader();\n",
              "      reader.onload = (e) => {\n",
              "        resolve(e.target.result);\n",
              "      };\n",
              "      reader.readAsArrayBuffer(file);\n",
              "    });\n",
              "    // Wait for the data to be ready.\n",
              "    let fileData = yield {\n",
              "      promise: fileDataPromise,\n",
              "      response: {\n",
              "        action: 'continue',\n",
              "      }\n",
              "    };\n",
              "\n",
              "    // Use a chunked sending to avoid message size limits. See b/62115660.\n",
              "    let position = 0;\n",
              "    do {\n",
              "      const length = Math.min(fileData.byteLength - position, MAX_PAYLOAD_SIZE);\n",
              "      const chunk = new Uint8Array(fileData, position, length);\n",
              "      position += length;\n",
              "\n",
              "      const base64 = btoa(String.fromCharCode.apply(null, chunk));\n",
              "      yield {\n",
              "        response: {\n",
              "          action: 'append',\n",
              "          file: file.name,\n",
              "          data: base64,\n",
              "        },\n",
              "      };\n",
              "\n",
              "      let percentDone = fileData.byteLength === 0 ?\n",
              "          100 :\n",
              "          Math.round((position / fileData.byteLength) * 100);\n",
              "      percent.textContent = `${percentDone}% done`;\n",
              "\n",
              "    } while (position < fileData.byteLength);\n",
              "  }\n",
              "\n",
              "  // All done.\n",
              "  yield {\n",
              "    response: {\n",
              "      action: 'complete',\n",
              "    }\n",
              "  };\n",
              "}\n",
              "\n",
              "scope.google = scope.google || {};\n",
              "scope.google.colab = scope.google.colab || {};\n",
              "scope.google.colab._files = {\n",
              "  _uploadFiles,\n",
              "  _uploadFilesContinue,\n",
              "};\n",
              "})(self);\n",
              "</script> "
            ]
          },
          "metadata": {}
        },
        {
          "output_type": "stream",
          "name": "stdout",
          "text": [
            "Saving metadata_and_tfidf_4.csv to metadata_and_tfidf_4.csv\n"
          ]
        }
      ]
    },
    {
      "cell_type": "code",
      "source": [
        "import io\n",
        "#filename = 'only_tfidf.csv'\n",
        "#filename = 'Metadata Reformatted & Validated - Sheet1 (1).csv'\n",
        "#filename = 'merged_table_better.csv'\n",
        "filename = 'metadata_and_tfidf_4.csv'\n",
        "f = pd.read_csv(io.BytesIO(uploaded[filename]),encoding='unicode_escape')\n",
        "#f = pd.read_csv(io.BytesIO(uploaded['']),encoding='unicode_escape')\n",
        "\n",
        "# Dataset is now stored in a Pandas Dataframe"
      ],
      "metadata": {
        "id": "3N9s4mwUxABi"
      },
      "execution_count": null,
      "outputs": []
    },
    {
      "cell_type": "markdown",
      "source": [
        "## Processing Array"
      ],
      "metadata": {
        "id": "tOQSM8dvN8yC"
      }
    },
    {
      "cell_type": "code",
      "source": [
        "f = f.dropna()"
      ],
      "metadata": {
        "id": "lWOeBlbMQS1u"
      },
      "execution_count": null,
      "outputs": []
    },
    {
      "cell_type": "code",
      "source": [
        "#turn into a numpy array\n",
        "arr = f.to_numpy()\n",
        "arr = np.delete(arr, 0, 0)\n",
        "indexmark = len(arr[1])"
      ],
      "metadata": {
        "id": "BLWo9kQYlOMJ"
      },
      "execution_count": null,
      "outputs": []
    },
    {
      "cell_type": "code",
      "source": [
        "#change into feature categories\n",
        "Y = arr[:,2]\n",
        "Y = Y.astype(int)\n",
        "#print(Y)\n",
        "X = arr[:,-(indexmark - 3):]\n",
        "X = X.astype(float)\n",
        "#print(X)\n",
        "#print(type(X[1][1]))"
      ],
      "metadata": {
        "id": "3OIBErSXmbfc"
      },
      "execution_count": null,
      "outputs": []
    },
    {
      "cell_type": "code",
      "source": [
        "#split the data into a 80/20 split\n",
        "X_train, X_test, Y_train, Y_test = train_test_split(X, Y, test_size=0.2)"
      ],
      "metadata": {
        "id": "uClz-bTVNeAR"
      },
      "execution_count": null,
      "outputs": []
    },
    {
      "cell_type": "code",
      "source": [
        "#print(type(X_train[1][4])) #check that its int"
      ],
      "metadata": {
        "id": "zIc4q6hNNwi7"
      },
      "execution_count": null,
      "outputs": []
    },
    {
      "cell_type": "markdown",
      "source": [
        "# Training with KNN"
      ],
      "metadata": {
        "id": "MYA-IVihOAeR"
      }
    },
    {
      "cell_type": "code",
      "source": [
        "loopcount = 500\n",
        "cnf_matrix = [[0,0],[0,0]]\n",
        "cnf_sum = [[0,0],[0,0]]\n",
        "for kjh in range(0,loopcount):\n",
        "  X_train, X_test, Y_train, Y_test = train_test_split(X, Y, test_size=0.2)\n",
        "  max_acc = 0\n",
        "  best_knn = 0\n",
        "  for i in  range(1,len(X_train)):\n",
        "      neigh = KNeighborsClassifier(n_neighbors=i)\n",
        "      neigh.fit(X_train, Y_train)\n",
        "\n",
        "      cnf_matrix = confusion_matrix(Y_test, neigh.predict(X_test))\n",
        "      #print(cnf_matrix)\n",
        "      #print(confusion_matrix(Y_test, neigh.predict(X_test),labels=[\"L\", \"B\", \"R\"]))\n",
        "\n",
        "      #print(sum(sum(cnf_matrix)))\n",
        "      accuracy = 0\n",
        "      for j in range(len(cnf_matrix)):\n",
        "          accuracy += cnf_matrix[j][j]\n",
        "      if accuracy > max_acc:\n",
        "          max_acc = accuracy\n",
        "          best_knn = i\n",
        "      #show all the calculated KNN and accuracies below\n",
        "      #print(\"Neighbors:\", i,\" Accuracy:\",accuracy/len(Y_test))\n",
        "\n",
        "  #Use the best knn found\n",
        "  #print(\"\\nBest KNN Found:\")\n",
        "  #print(\"---------------\")\n",
        "  neigh = KNeighborsClassifier(n_neighbors=best_knn)\n",
        "  neigh.fit(X_train, Y_train)\n",
        "  #print(neigh.classes_)\n",
        "  #print(confusion_matrix(Y_test, neigh.predict(X_test)))\n",
        "  cnf_matrix =  confusion_matrix(Y_test, neigh.predict(X_test))\n",
        "  cnf_sum = cnf_sum + cnf_matrix\n",
        "  #print(cnf_sum)\n",
        "  #print(cnf_matrix)\n",
        "  #print(neigh.predict(X_test))\n",
        "\n",
        "  #Prediction with probability\n",
        "  #print(neigh.predict_proba(X_test))\n",
        "\n",
        "  #Saving the model for future uses\n",
        "  #from sklearn.externals import joblib\n",
        "  joblib.dump(neigh, 'bestknn.pkl')\n",
        "\n",
        "  #Re-use the model\n",
        "  clf = joblib.load('bestknn.pkl')\n",
        "  #print(clf.predict_proba(X_test))\n",
        "\n",
        "  predictions = clf.predict(X_test)\n",
        "\n",
        "cnf_sum = cnf_sum / loopcount\n",
        "plt.figure()\n",
        "disp = ConfusionMatrixDisplay(confusion_matrix=cnf_sum)\n",
        "disp.plot()\n",
        "plt.title(f\"KNN Confusion Matrix with\\n {filename}, n={loopcount}\")\n",
        "plt.show()\n",
        "\n",
        "print((cnf_sum[0,0]+cnf_sum[1,1]) / (cnf_sum[0,0]+cnf_sum[1,0]+cnf_sum[0,1]+cnf_sum[1,1]) )"
      ],
      "metadata": {
        "colab": {
          "base_uri": "https://localhost:8080/",
          "height": 528
        },
        "id": "koUPmUijkmu9",
        "outputId": "9369370d-1896-4fb0-c897-ae2f0b40db87"
      },
      "execution_count": null,
      "outputs": [
        {
          "output_type": "display_data",
          "data": {
            "text/plain": [
              "<Figure size 640x480 with 0 Axes>"
            ]
          },
          "metadata": {}
        },
        {
          "output_type": "display_data",
          "data": {
            "text/plain": [
              "<Figure size 640x480 with 2 Axes>"
            ],
            "image/png": "[encoded data removed]"
          },
          "metadata": {}
        },
        {
          "output_type": "stream",
          "name": "stdout",
          "text": [
            "0.7565454545454546\n"
          ]
        }
      ]
    }
  ]
}