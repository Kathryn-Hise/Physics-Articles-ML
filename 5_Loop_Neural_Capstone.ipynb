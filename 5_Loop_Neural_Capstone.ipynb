{
  "cells": [
    {
      "cell_type": "markdown",
      "metadata": {
        "id": "view-in-github",
        "colab_type": "text"
      },
      "source": [
        "<a href=\"https://colab.research.google.com/github/Kathryn-Hise/Physics-Articles-ML/blob/main/5_Loop_Neural_Capstone.ipynb\" target=\"_parent\"><img src=\"https://colab.research.google.com/assets/colab-badge.svg\" alt=\"Open In Colab\"/></a>"
      ]
    },
    {
      "cell_type": "markdown",
      "metadata": {
        "id": "TttR0krpSY1z"
      },
      "source": [
        "# Imports"
      ]
    },
    {
      "cell_type": "code",
      "execution_count": null,
      "metadata": {
        "id": "XgpI1HaTSPix"
      },
      "outputs": [],
      "source": [
        "import numpy as np\n",
        "from sklearn.model_selection import train_test_split\n",
        "from sklearn.metrics import confusion_matrix\n",
        "import pandas as pd\n",
        "from sklearn.neural_network import MLPClassifier\n",
        "from sklearn.preprocessing import StandardScaler\n",
        "import io\n",
        "import matplotlib.pyplot as plt\n",
        "from sklearn.metrics import ConfusionMatrixDisplay, confusion_matrix\n",
        "import joblib"
      ]
    },
    {
      "cell_type": "code",
      "execution_count": null,
      "metadata": {
        "colab": {
          "base_uri": "https://localhost:8080/",
          "height": 73
        },
        "id": "QxxPXwEBSaY8",
        "outputId": "ad25bf90-c871-41d9-d745-0903d86fa3c7"
      },
      "outputs": [
        {
          "output_type": "display_data",
          "data": {
            "text/plain": [
              "<IPython.core.display.HTML object>"
            ],
            "text/html": [
              "\n",
              "     <input type=\"file\" id=\"files-4db683a4-91cf-4b2d-b53b-432d3364f07e\" name=\"files[]\" multiple disabled\n",
              "        style=\"border:none\" />\n",
              "     <output id=\"result-4db683a4-91cf-4b2d-b53b-432d3364f07e\">\n",
              "      Upload widget is only available when the cell has been executed in the\n",
              "      current browser session. Please rerun this cell to enable.\n",
              "      </output>\n",
              "      <script>// Copyright 2017 Google LLC\n",
              "//\n",
              "// Licensed under the Apache License, Version 2.0 (the \"License\");\n",
              "// you may not use this file except in compliance with the License.\n",
              "// You may obtain a copy of the License at\n",
              "//\n",
              "//      http://www.apache.org/licenses/LICENSE-2.0\n",
              "//\n",
              "// Unless required by applicable law or agreed to in writing, software\n",
              "// distributed under the License is distributed on an \"AS IS\" BASIS,\n",
              "// WITHOUT WARRANTIES OR CONDITIONS OF ANY KIND, either express or implied.\n",
              "// See the License for the specific language governing permissions and\n",
              "// limitations under the License.\n",
              "\n",
              "/**\n",
              " * @fileoverview Helpers for google.colab Python module.\n",
              " */\n",
              "(function(scope) {\n",
              "function span(text, styleAttributes = {}) {\n",
              "  const element = document.createElement('span');\n",
              "  element.textContent = text;\n",
              "  for (const key of Object.keys(styleAttributes)) {\n",
              "    element.style[key] = styleAttributes[key];\n",
              "  }\n",
              "  return element;\n",
              "}\n",
              "\n",
              "// Max number of bytes which will be uploaded at a time.\n",
              "const MAX_PAYLOAD_SIZE = 100 * 1024;\n",
              "\n",
              "function _uploadFiles(inputId, outputId) {\n",
              "  const steps = uploadFilesStep(inputId, outputId);\n",
              "  const outputElement = document.getElementById(outputId);\n",
              "  // Cache steps on the outputElement to make it available for the next call\n",
              "  // to uploadFilesContinue from Python.\n",
              "  outputElement.steps = steps;\n",
              "\n",
              "  return _uploadFilesContinue(outputId);\n",
              "}\n",
              "\n",
              "// This is roughly an async generator (not supported in the browser yet),\n",
              "// where there are multiple asynchronous steps and the Python side is going\n",
              "// to poll for completion of each step.\n",
              "// This uses a Promise to block the python side on completion of each step,\n",
              "// then passes the result of the previous step as the input to the next step.\n",
              "function _uploadFilesContinue(outputId) {\n",
              "  const outputElement = document.getElementById(outputId);\n",
              "  const steps = outputElement.steps;\n",
              "\n",
              "  const next = steps.next(outputElement.lastPromiseValue);\n",
              "  return Promise.resolve(next.value.promise).then((value) => {\n",
              "    // Cache the last promise value to make it available to the next\n",
              "    // step of the generator.\n",
              "    outputElement.lastPromiseValue = value;\n",
              "    return next.value.response;\n",
              "  });\n",
              "}\n",
              "\n",
              "/**\n",
              " * Generator function which is called between each async step of the upload\n",
              " * process.\n",
              " * @param {string} inputId Element ID of the input file picker element.\n",
              " * @param {string} outputId Element ID of the output display.\n",
              " * @return {!Iterable<!Object>} Iterable of next steps.\n",
              " */\n",
              "function* uploadFilesStep(inputId, outputId) {\n",
              "  const inputElement = document.getElementById(inputId);\n",
              "  inputElement.disabled = false;\n",
              "\n",
              "  const outputElement = document.getElementById(outputId);\n",
              "  outputElement.innerHTML = '';\n",
              "\n",
              "  const pickedPromise = new Promise((resolve) => {\n",
              "    inputElement.addEventListener('change', (e) => {\n",
              "      resolve(e.target.files);\n",
              "    });\n",
              "  });\n",
              "\n",
              "  const cancel = document.createElement('button');\n",
              "  inputElement.parentElement.appendChild(cancel);\n",
              "  cancel.textContent = 'Cancel upload';\n",
              "  const cancelPromise = new Promise((resolve) => {\n",
              "    cancel.onclick = () => {\n",
              "      resolve(null);\n",
              "    };\n",
              "  });\n",
              "\n",
              "  // Wait for the user to pick the files.\n",
              "  const files = yield {\n",
              "    promise: Promise.race([pickedPromise, cancelPromise]),\n",
              "    response: {\n",
              "      action: 'starting',\n",
              "    }\n",
              "  };\n",
              "\n",
              "  cancel.remove();\n",
              "\n",
              "  // Disable the input element since further picks are not allowed.\n",
              "  inputElement.disabled = true;\n",
              "\n",
              "  if (!files) {\n",
              "    return {\n",
              "      response: {\n",
              "        action: 'complete',\n",
              "      }\n",
              "    };\n",
              "  }\n",
              "\n",
              "  for (const file of files) {\n",
              "    const li = document.createElement('li');\n",
              "    li.append(span(file.name, {fontWeight: 'bold'}));\n",
              "    li.append(span(\n",
              "        `(${file.type || 'n/a'}) - ${file.size} bytes, ` +\n",
              "        `last modified: ${\n",
              "            file.lastModifiedDate ? file.lastModifiedDate.toLocaleDateString() :\n",
              "                                    'n/a'} - `));\n",
              "    const percent = span('0% done');\n",
              "    li.appendChild(percent);\n",
              "\n",
              "    outputElement.appendChild(li);\n",
              "\n",
              "    const fileDataPromise = new Promise((resolve) => {\n",
              "      const reader = new FileReader();\n",
              "      reader.onload = (e) => {\n",
              "        resolve(e.target.result);\n",
              "      };\n",
              "      reader.readAsArrayBuffer(file);\n",
              "    });\n",
              "    // Wait for the data to be ready.\n",
              "    let fileData = yield {\n",
              "      promise: fileDataPromise,\n",
              "      response: {\n",
              "        action: 'continue',\n",
              "      }\n",
              "    };\n",
              "\n",
              "    // Use a chunked sending to avoid message size limits. See b/62115660.\n",
              "    let position = 0;\n",
              "    do {\n",
              "      const length = Math.min(fileData.byteLength - position, MAX_PAYLOAD_SIZE);\n",
              "      const chunk = new Uint8Array(fileData, position, length);\n",
              "      position += length;\n",
              "\n",
              "      const base64 = btoa(String.fromCharCode.apply(null, chunk));\n",
              "      yield {\n",
              "        response: {\n",
              "          action: 'append',\n",
              "          file: file.name,\n",
              "          data: base64,\n",
              "        },\n",
              "      };\n",
              "\n",
              "      let percentDone = fileData.byteLength === 0 ?\n",
              "          100 :\n",
              "          Math.round((position / fileData.byteLength) * 100);\n",
              "      percent.textContent = `${percentDone}% done`;\n",
              "\n",
              "    } while (position < fileData.byteLength);\n",
              "  }\n",
              "\n",
              "  // All done.\n",
              "  yield {\n",
              "    response: {\n",
              "      action: 'complete',\n",
              "    }\n",
              "  };\n",
              "}\n",
              "\n",
              "scope.google = scope.google || {};\n",
              "scope.google.colab = scope.google.colab || {};\n",
              "scope.google.colab._files = {\n",
              "  _uploadFiles,\n",
              "  _uploadFilesContinue,\n",
              "};\n",
              "})(self);\n",
              "</script> "
            ]
          },
          "metadata": {}
        },
        {
          "output_type": "stream",
          "name": "stdout",
          "text": [
            "Saving metadata_and_tfidf_4.csv to metadata_and_tfidf_4.csv\n"
          ]
        }
      ],
      "source": [
        "from google.colab import files\n",
        "uploaded = files.upload()"
      ]
    },
    {
      "cell_type": "code",
      "execution_count": null,
      "metadata": {
        "id": "ALrhi-OTSeFK"
      },
      "outputs": [],
      "source": [
        "#filename = 'only_tfidf.csv'\n",
        "#filename = 'Metadata Reformatted & Validated - Sheet1 (1) (1).csv'\n",
        "#filename = 'merged_table_better.csv'\n",
        "filename = 'metadata_and_tfidf_4.csv'\n",
        "f = pd.read_csv(io.BytesIO(uploaded[filename]),encoding='unicode_escape')\n",
        "# Dataset is now stored in a Pandas Dataframe"
      ]
    },
    {
      "cell_type": "markdown",
      "metadata": {
        "id": "UvXEAnB5SieC"
      },
      "source": [
        "# Processing Array"
      ]
    },
    {
      "cell_type": "code",
      "execution_count": null,
      "metadata": {
        "id": "XwYQyN8eSiBj"
      },
      "outputs": [],
      "source": [
        "#display(f)"
      ]
    },
    {
      "cell_type": "code",
      "execution_count": null,
      "metadata": {
        "id": "QG4xZTJ8SmCq"
      },
      "outputs": [],
      "source": [
        "#remove NaN values\n",
        "f = f.dropna()\n",
        "\n",
        "#turn into a numpy array\n",
        "arr = f.to_numpy()\n",
        "arr = np.delete(arr, 0, 0)\n",
        "indexmark = len(arr[1])"
      ]
    },
    {
      "cell_type": "code",
      "execution_count": null,
      "metadata": {
        "id": "j-RZwsXhStPI"
      },
      "outputs": [],
      "source": [
        "#change into feature categories\n",
        "Y = arr[:,2]\n",
        "Y = Y.astype(int)\n",
        "#print(Y)\n",
        "X = arr[:,-(indexmark - 3):]\n",
        "X = X.astype(float)\n",
        "#print(X)\n",
        "#print(type(X[1][1]))"
      ]
    },
    {
      "cell_type": "code",
      "execution_count": null,
      "metadata": {
        "id": "_ySX7RrgSwyO"
      },
      "outputs": [],
      "source": [
        "#split the data into a 80/20 split\n",
        "#X_train, X_test, Y_train, Y_test = train_test_split(X, Y, test_size=0.2)\n",
        "#print(type(X_train[1][4])) #check that its int"
      ]
    },
    {
      "cell_type": "markdown",
      "metadata": {
        "id": "OJ2SdWWLe0Xj"
      },
      "source": [
        "# Loop\n"
      ]
    },
    {
      "cell_type": "code",
      "execution_count": null,
      "metadata": {
        "colab": {
          "base_uri": "https://localhost:8080/",
          "height": 528
        },
        "id": "CkQN_GZ3e1sX",
        "outputId": "4047fde6-6557-422b-99a2-00484e959ec3"
      },
      "outputs": [
        {
          "output_type": "display_data",
          "data": {
            "text/plain": [
              "<Figure size 640x480 with 0 Axes>"
            ]
          },
          "metadata": {}
        },
        {
          "output_type": "display_data",
          "data": {
            "text/plain": [
              "<Figure size 640x480 with 2 Axes>"
            ],
            "image/png": "[encoded data removed]"
          },
          "metadata": {}
        },
        {
          "output_type": "stream",
          "name": "stdout",
          "text": [
            "0.7545454545454545\n"
          ]
        }
      ],
      "source": [
        "loopcount = 10\n",
        "cnf_matrix = [[0,0],[0,0]]\n",
        "cnf_sum = [[0,0],[0,0]]\n",
        "for kjh in range(0,loopcount):\n",
        "  X_train, X_test, Y_train, Y_test = train_test_split(X, Y, test_size=0.2)\n",
        "  scaler = StandardScaler()\n",
        "  # Don't cheat - fit only on training data\n",
        "  scaler.fit(X_train)\n",
        "  X_train = scaler.transform(X_train)\n",
        "  # apply same transformation to test data\n",
        "  X_test = scaler.transform(X_test)\n",
        "\n",
        "  max_acc = 0\n",
        "  best_size = 0\n",
        "\n",
        "  for i in range(100,200):\n",
        "      nn = MLPClassifier(activation='relu', solver='lbfgs', alpha=1e-4 , hidden_layer_sizes=(i,),max_iter = 1000)\n",
        "      nn.fit(X_train, Y_train)\n",
        "\n",
        "      cnf_matrix = confusion_matrix(Y_test, nn.predict(X_test))\n",
        "\n",
        "      #calcuate the accuracy\n",
        "      accuracy = 0\n",
        "      for j in range(len(cnf_matrix)):\n",
        "          accuracy += cnf_matrix[j][j]\n",
        "      if accuracy > max_acc:\n",
        "          max_acc = accuracy\n",
        "          best_size = i\n",
        "      #print(\"Hidden units:\",i,\"Accuracy:\",accuracy/len(Y_test))\n",
        "\n",
        "  #ordered confusion matrix\n",
        "  nn = MLPClassifier(activation='relu', solver='lbfgs', alpha=1e-4 , hidden_layer_sizes=(best_size,),max_iter = 1000)\n",
        "  nn.fit(X_train, Y_train)\n",
        "  #print(nn.classes_)\n",
        "  #print(confusion_matrix(Y_test, nn.predict(X_test),labels=nn.classes_))\n",
        "\n",
        "  #Prediction without probability\n",
        "  #print(nn.predict(X_test))\n",
        "  cnf_sum = cnf_sum + cnf_matrix\n",
        "\n",
        "cnf_sum = cnf_sum / loopcount\n",
        "plt.figure()\n",
        "disp = ConfusionMatrixDisplay(confusion_matrix=cnf_sum)\n",
        "disp.plot()\n",
        "plt.title(f\"Neural Network Confusion Matrix with \\n {filename}, n={loopcount}\")\n",
        "plt.show()\n",
        "\n",
        "print((cnf_sum[0,0]+cnf_sum[1,1]) / (cnf_sum[0,0]+cnf_sum[1,0]+cnf_sum[0,1]+cnf_sum[1,1]) )"
      ]
    },
    {
      "cell_type": "markdown",
      "metadata": {
        "id": "BF00Y0kdS1ki"
      },
      "source": [
        "# Training with Neural"
      ]
    },
    {
      "cell_type": "code",
      "execution_count": null,
      "metadata": {
        "colab": {
          "base_uri": "https://localhost:8080/"
        },
        "id": "NO4D6VUaZp7T",
        "outputId": "9f9b83fb-7408-4535-f56d-0dfe4033521d"
      },
      "outputs": [
        {
          "name": "stdout",
          "output_type": "stream",
          "text": [
            "Hidden units: 100 Accuracy: 0.696969696969697\n",
            "Hidden units: 101 Accuracy: 0.7272727272727273\n",
            "Hidden units: 102 Accuracy: 0.696969696969697\n",
            "Hidden units: 103 Accuracy: 0.696969696969697\n",
            "Hidden units: 104 Accuracy: 0.696969696969697\n",
            "Hidden units: 105 Accuracy: 0.7878787878787878\n",
            "Hidden units: 106 Accuracy: 0.7272727272727273\n",
            "Hidden units: 107 Accuracy: 0.696969696969697\n",
            "Hidden units: 108 Accuracy: 0.7272727272727273\n",
            "Hidden units: 109 Accuracy: 0.6666666666666666\n",
            "Hidden units: 110 Accuracy: 0.7878787878787878\n",
            "Hidden units: 111 Accuracy: 0.696969696969697\n",
            "Hidden units: 112 Accuracy: 0.7272727272727273\n",
            "Hidden units: 113 Accuracy: 0.6666666666666666\n",
            "Hidden units: 114 Accuracy: 0.696969696969697\n",
            "Hidden units: 115 Accuracy: 0.696969696969697\n",
            "Hidden units: 116 Accuracy: 0.6363636363636364\n",
            "Hidden units: 117 Accuracy: 0.7575757575757576\n",
            "Hidden units: 118 Accuracy: 0.6666666666666666\n",
            "Hidden units: 119 Accuracy: 0.7575757575757576\n",
            "Hidden units: 120 Accuracy: 0.6666666666666666\n",
            "Hidden units: 121 Accuracy: 0.7272727272727273\n",
            "Hidden units: 122 Accuracy: 0.6666666666666666\n",
            "Hidden units: 123 Accuracy: 0.7575757575757576\n",
            "Hidden units: 124 Accuracy: 0.7272727272727273\n",
            "Hidden units: 125 Accuracy: 0.7272727272727273\n",
            "Hidden units: 126 Accuracy: 0.696969696969697\n",
            "Hidden units: 127 Accuracy: 0.7272727272727273\n",
            "Hidden units: 128 Accuracy: 0.7272727272727273\n",
            "Hidden units: 129 Accuracy: 0.7272727272727273\n",
            "Hidden units: 130 Accuracy: 0.7272727272727273\n",
            "Hidden units: 131 Accuracy: 0.7272727272727273\n",
            "Hidden units: 132 Accuracy: 0.7272727272727273\n",
            "Hidden units: 133 Accuracy: 0.6666666666666666\n",
            "Hidden units: 134 Accuracy: 0.696969696969697\n",
            "Hidden units: 135 Accuracy: 0.696969696969697\n",
            "Hidden units: 136 Accuracy: 0.7272727272727273\n",
            "Hidden units: 137 Accuracy: 0.7272727272727273\n",
            "Hidden units: 138 Accuracy: 0.7575757575757576\n",
            "Hidden units: 139 Accuracy: 0.7575757575757576\n",
            "Hidden units: 140 Accuracy: 0.696969696969697\n",
            "Hidden units: 141 Accuracy: 0.7272727272727273\n",
            "Hidden units: 142 Accuracy: 0.696969696969697\n",
            "Hidden units: 143 Accuracy: 0.7575757575757576\n",
            "Hidden units: 144 Accuracy: 0.7272727272727273\n",
            "Hidden units: 145 Accuracy: 0.7272727272727273\n",
            "Hidden units: 146 Accuracy: 0.7272727272727273\n",
            "Hidden units: 147 Accuracy: 0.696969696969697\n",
            "Hidden units: 148 Accuracy: 0.6666666666666666\n",
            "Hidden units: 149 Accuracy: 0.7272727272727273\n",
            "Hidden units: 150 Accuracy: 0.7575757575757576\n",
            "Hidden units: 151 Accuracy: 0.696969696969697\n",
            "Hidden units: 152 Accuracy: 0.7272727272727273\n",
            "Hidden units: 153 Accuracy: 0.7272727272727273\n",
            "Hidden units: 154 Accuracy: 0.6666666666666666\n",
            "Hidden units: 155 Accuracy: 0.7272727272727273\n",
            "Hidden units: 156 Accuracy: 0.696969696969697\n",
            "Hidden units: 157 Accuracy: 0.696969696969697\n",
            "Hidden units: 158 Accuracy: 0.696969696969697\n",
            "Hidden units: 159 Accuracy: 0.7272727272727273\n",
            "Hidden units: 160 Accuracy: 0.696969696969697\n",
            "Hidden units: 161 Accuracy: 0.7272727272727273\n",
            "Hidden units: 162 Accuracy: 0.696969696969697\n",
            "Hidden units: 163 Accuracy: 0.7575757575757576\n",
            "Hidden units: 164 Accuracy: 0.696969696969697\n",
            "Hidden units: 165 Accuracy: 0.7272727272727273\n",
            "Hidden units: 166 Accuracy: 0.6666666666666666\n",
            "Hidden units: 167 Accuracy: 0.696969696969697\n",
            "Hidden units: 168 Accuracy: 0.7575757575757576\n",
            "Hidden units: 169 Accuracy: 0.696969696969697\n",
            "Hidden units: 170 Accuracy: 0.696969696969697\n",
            "Hidden units: 171 Accuracy: 0.696969696969697\n",
            "Hidden units: 172 Accuracy: 0.696969696969697\n",
            "Hidden units: 173 Accuracy: 0.696969696969697\n",
            "Hidden units: 174 Accuracy: 0.7272727272727273\n",
            "Hidden units: 175 Accuracy: 0.7272727272727273\n",
            "Hidden units: 176 Accuracy: 0.7272727272727273\n",
            "Hidden units: 177 Accuracy: 0.696969696969697\n",
            "Hidden units: 178 Accuracy: 0.696969696969697\n",
            "Hidden units: 179 Accuracy: 0.7575757575757576\n",
            "Hidden units: 180 Accuracy: 0.7272727272727273\n",
            "Hidden units: 181 Accuracy: 0.7272727272727273\n",
            "Hidden units: 182 Accuracy: 0.696969696969697\n",
            "Hidden units: 183 Accuracy: 0.696969696969697\n",
            "Hidden units: 184 Accuracy: 0.6666666666666666\n",
            "Hidden units: 185 Accuracy: 0.696969696969697\n",
            "Hidden units: 186 Accuracy: 0.7272727272727273\n",
            "Hidden units: 187 Accuracy: 0.696969696969697\n",
            "Hidden units: 188 Accuracy: 0.7272727272727273\n",
            "Hidden units: 189 Accuracy: 0.7272727272727273\n",
            "Hidden units: 190 Accuracy: 0.6666666666666666\n",
            "Hidden units: 191 Accuracy: 0.7272727272727273\n",
            "Hidden units: 192 Accuracy: 0.696969696969697\n",
            "Hidden units: 193 Accuracy: 0.7272727272727273\n",
            "Hidden units: 194 Accuracy: 0.696969696969697\n",
            "Hidden units: 195 Accuracy: 0.696969696969697\n",
            "Hidden units: 196 Accuracy: 0.696969696969697\n",
            "Hidden units: 197 Accuracy: 0.7272727272727273\n",
            "Hidden units: 198 Accuracy: 0.6363636363636364\n",
            "Hidden units: 199 Accuracy: 0.7575757575757576\n",
            "[0 1]\n",
            "[[ 8  4]\n",
            " [ 4 17]]\n",
            "[1 1 1 1 0 0 1 1 0 1 1 1 0 0 0 1 1 1 1 0 0 1 1 1 1 0 0 1 1 0 0 1 1]\n"
          ]
        }
      ],
      "source": [
        "scaler = StandardScaler()\n",
        "# Don't cheat - fit only on training data\n",
        "scaler.fit(X_train)\n",
        "X_train = scaler.transform(X_train)\n",
        "# apply same transformation to test data\n",
        "X_test = scaler.transform(X_test)\n",
        "\n",
        "max_acc = 0\n",
        "best_size = 0\n",
        "\n",
        "for i in range(100,200):\n",
        "    nn = MLPClassifier(activation='relu', solver='lbfgs', alpha=1e-4 , hidden_layer_sizes=(i,),max_iter = 1000)\n",
        "    nn.fit(X_train, Y_train)\n",
        "\n",
        "    cnf_matrix = confusion_matrix(Y_test, nn.predict(X_test))\n",
        "\n",
        "    #calcuate the accuracy\n",
        "    accuracy = 0\n",
        "    for j in range(len(cnf_matrix)):\n",
        "        accuracy += cnf_matrix[j][j]\n",
        "    if accuracy > max_acc:\n",
        "        max_acc = accuracy\n",
        "        best_size = i\n",
        "    print(\"Hidden units:\",i,\"Accuracy:\",accuracy/len(Y_test))\n",
        "\n",
        "  #ordered confusion matrix\n",
        "  nn = MLPClassifier(activation='relu', solver='lbfgs', alpha=1e-4 , hidden_layer_sizes=(best_size,),max_iter = 1000)\n",
        "  nn.fit(X_train, Y_train)\n",
        "  #print(nn.classes_)\n",
        "  #print(confusion_matrix(Y_test, nn.predict(X_test),labels=nn.classes_))\n",
        "\n",
        "  #Prediction without probability\n",
        "  #print(nn.predict(X_test))\n",
        "  joblib.dump(nn,'nn.pkl')\n",
        "\n",
        "  #Re-use the model\n",
        "  clf = joblib.load('nn.pkl')\n",
        "  #print(clf.predict_proba(X_test))"
      ]
    },
    {
      "cell_type": "code",
      "execution_count": null,
      "metadata": {
        "colab": {
          "base_uri": "https://localhost:8080/"
        },
        "id": "Xa_O0-uLYTuP",
        "outputId": "dbbbb6f0-3014-4b44-aa66-b5f58191b485"
      },
      "outputs": [
        {
          "name": "stdout",
          "output_type": "stream",
          "text": [
            "[[3.39728246e-14 1.00000000e+00]\n",
            " [0.00000000e+00 1.00000000e+00]\n",
            " [5.99123640e-09 9.99999994e-01]\n",
            " [6.44655884e-10 9.99999999e-01]\n",
            " [1.00000000e+00 1.26656155e-31]\n",
            " [1.00000000e+00 1.78658262e-13]\n",
            " [1.30867917e-09 9.99999999e-01]\n",
            " [1.89777923e-05 9.99981022e-01]\n",
            " [9.07524112e-01 9.24758882e-02]\n",
            " [3.39194783e-05 9.99966081e-01]\n",
            " [2.07302326e-03 9.97926977e-01]\n",
            " [1.94682456e-08 9.99999981e-01]\n",
            " [6.32016127e-01 3.67983873e-01]\n",
            " [9.99999981e-01 1.88903523e-08]\n",
            " [9.99999997e-01 2.85798765e-09]\n",
            " [1.01246193e-02 9.89875381e-01]\n",
            " [1.55405334e-06 9.99998446e-01]\n",
            " [4.18177657e-02 9.58182234e-01]\n",
            " [2.36631390e-01 7.63368610e-01]\n",
            " [1.00000000e+00 1.71451589e-18]\n",
            " [9.98301243e-01 1.69875712e-03]\n",
            " [1.70992037e-04 9.99829008e-01]\n",
            " [2.56033505e-07 9.99999744e-01]\n",
            " [0.00000000e+00 1.00000000e+00]\n",
            " [0.00000000e+00 1.00000000e+00]\n",
            " [1.00000000e+00 3.36395320e-11]\n",
            " [9.88569751e-01 1.14302491e-02]\n",
            " [8.11849455e-06 9.99991882e-01]\n",
            " [3.33315820e-04 9.99666684e-01]\n",
            " [9.99999637e-01 3.62510576e-07]\n",
            " [9.89994280e-01 1.00057198e-02]\n",
            " [1.53612085e-03 9.98463879e-01]\n",
            " [1.08065534e-09 9.99999999e-01]]\n"
          ]
        }
      ],
      "source": [
        "#Saving the model for future uses\n",
        "joblib.dump(nn,'nn.pkl')\n",
        "\n",
        "#Re-use the model\n",
        "clf = joblib.load('nn.pkl')\n",
        "print(clf.predict_proba(X_test))"
      ]
    },
    {
      "cell_type": "code",
      "execution_count": null,
      "metadata": {
        "colab": {
          "base_uri": "https://localhost:8080/",
          "height": 490
        },
        "id": "zOpx2eFJVAQM",
        "outputId": "ae006d54-cb9d-494d-a797-d716eb2e8a57"
      },
      "outputs": [
        {
          "data": {
            "text/plain": [
              "<Figure size 640x480 with 0 Axes>"
            ]
          },
          "metadata": {},
          "output_type": "display_data"
        },
        {
          "data": {
            "image/png": "[encoded data removed]",
            "text/plain": [
              "<Figure size 640x480 with 2 Axes>"
            ]
          },
          "metadata": {},
          "output_type": "display_data"
        }
      ],
      "source": [
        "import matplotlib.pyplot as plt\n",
        "plt.figure()\n",
        "from sklearn.metrics import ConfusionMatrixDisplay, confusion_matrix\n",
        "predictions = clf.predict(X_test)\n",
        "#cm = confusion_matrix(Y_test, predictions)#, labels=clf.classes_)\n",
        "disp = ConfusionMatrixDisplay(confusion_matrix=cnf_matrix)\n",
        "#print(neigh.predict_proba([[0.9]]))\n",
        "#cm.stats() #return oredered Dictionary\n",
        "#cm.stats()['overall']['Accuracy']\n",
        "disp.plot()\n",
        "plt.title(\"Neural Network Confusion Matrix with TF-IDF only\")\n",
        "plt.show()"
      ]
    }
  ],
  "metadata": {
    "colab": {
      "collapsed_sections": [
        "TttR0krpSY1z",
        "UvXEAnB5SieC"
      ],
      "provenance": [],
      "authorship_tag": "ABX9TyP8K5zhvtXCbLqzLrJVX3Hz",
      "include_colab_link": true
    },
    "kernelspec": {
      "display_name": "Python 3",
      "name": "python3"
    },
    "language_info": {
      "name": "python"
    }
  },
  "nbformat": 4,
  "nbformat_minor": 0
}