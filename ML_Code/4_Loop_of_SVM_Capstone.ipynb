{
  "nbformat": 4,
  "nbformat_minor": 0,
  "metadata": {
    "colab": {
      "provenance": [],
      "collapsed_sections": [
        "BF00Y0kdS1ki"
      ],
      "authorship_tag": "ABX9TyO35CCy8FcW+QF5tTDAg7zI",
      "include_colab_link": true
    },
    "kernelspec": {
      "name": "python3",
      "display_name": "Python 3"
    },
    "language_info": {
      "name": "python"
    }
  },
  "cells": [
    {
      "cell_type": "markdown",
      "metadata": {
        "id": "view-in-github",
        "colab_type": "text"
      },
      "source": [
        "<a href=\"https://colab.research.google.com/github/Kathryn-Hise/Physics-Articles-ML/blob/main/4_Loop_of_SVM_Capstone.ipynb\" target=\"_parent\"><img src=\"https://colab.research.google.com/assets/colab-badge.svg\" alt=\"Open In Colab\"/></a>"
      ]
    },
    {
      "cell_type": "markdown",
      "source": [
        "# Imports"
      ],
      "metadata": {
        "id": "TttR0krpSY1z"
      }
    },
    {
      "cell_type": "code",
      "execution_count": null,
      "metadata": {
        "id": "XgpI1HaTSPix"
      },
      "outputs": [],
      "source": [
        "import numpy as np\n",
        "from sklearn.model_selection import train_test_split\n",
        "from sklearn.metrics import confusion_matrix\n",
        "import pandas as pd\n",
        "from sklearn.svm import SVC\n",
        "import io\n",
        "import joblib\n",
        "from sklearn.model_selection import train_test_split\n",
        "import matplotlib.pyplot as plt\n",
        "from sklearn.metrics import ConfusionMatrixDisplay, confusion_matrix"
      ]
    },
    {
      "cell_type": "code",
      "source": [
        "from google.colab import files\n",
        "uploaded = files.upload()"
      ],
      "metadata": {
        "colab": {
          "base_uri": "https://localhost:8080/",
          "height": 73
        },
        "id": "QxxPXwEBSaY8",
        "outputId": "0a823124-025f-43a5-dada-c5b450538313"
      },
      "execution_count": null,
      "outputs": [
        {
          "output_type": "display_data",
          "data": {
            "text/plain": [
              "<IPython.core.display.HTML object>"
            ],
            "text/html": [
              "\n",
              "     <input type=\"file\" id=\"files-f2572cdf-4a5d-438d-8812-d4d2e0e38c47\" name=\"files[]\" multiple disabled\n",
              "        style=\"border:none\" />\n",
              "     <output id=\"result-f2572cdf-4a5d-438d-8812-d4d2e0e38c47\">\n",
              "      Upload widget is only available when the cell has been executed in the\n",
              "      current browser session. Please rerun this cell to enable.\n",
              "      </output>\n",
              "      <script>// Copyright 2017 Google LLC\n",
              "//\n",
              "// Licensed under the Apache License, Version 2.0 (the \"License\");\n",
              "// you may not use this file except in compliance with the License.\n",
              "// You may obtain a copy of the License at\n",
              "//\n",
              "//      http://www.apache.org/licenses/LICENSE-2.0\n",
              "//\n",
              "// Unless required by applicable law or agreed to in writing, software\n",
              "// distributed under the License is distributed on an \"AS IS\" BASIS,\n",
              "// WITHOUT WARRANTIES OR CONDITIONS OF ANY KIND, either express or implied.\n",
              "// See the License for the specific language governing permissions and\n",
              "// limitations under the License.\n",
              "\n",
              "/**\n",
              " * @fileoverview Helpers for google.colab Python module.\n",
              " */\n",
              "(function(scope) {\n",
              "function span(text, styleAttributes = {}) {\n",
              "  const element = document.createElement('span');\n",
              "  element.textContent = text;\n",
              "  for (const key of Object.keys(styleAttributes)) {\n",
              "    element.style[key] = styleAttributes[key];\n",
              "  }\n",
              "  return element;\n",
              "}\n",
              "\n",
              "// Max number of bytes which will be uploaded at a time.\n",
              "const MAX_PAYLOAD_SIZE = 100 * 1024;\n",
              "\n",
              "function _uploadFiles(inputId, outputId) {\n",
              "  const steps = uploadFilesStep(inputId, outputId);\n",
              "  const outputElement = document.getElementById(outputId);\n",
              "  // Cache steps on the outputElement to make it available for the next call\n",
              "  // to uploadFilesContinue from Python.\n",
              "  outputElement.steps = steps;\n",
              "\n",
              "  return _uploadFilesContinue(outputId);\n",
              "}\n",
              "\n",
              "// This is roughly an async generator (not supported in the browser yet),\n",
              "// where there are multiple asynchronous steps and the Python side is going\n",
              "// to poll for completion of each step.\n",
              "// This uses a Promise to block the python side on completion of each step,\n",
              "// then passes the result of the previous step as the input to the next step.\n",
              "function _uploadFilesContinue(outputId) {\n",
              "  const outputElement = document.getElementById(outputId);\n",
              "  const steps = outputElement.steps;\n",
              "\n",
              "  const next = steps.next(outputElement.lastPromiseValue);\n",
              "  return Promise.resolve(next.value.promise).then((value) => {\n",
              "    // Cache the last promise value to make it available to the next\n",
              "    // step of the generator.\n",
              "    outputElement.lastPromiseValue = value;\n",
              "    return next.value.response;\n",
              "  });\n",
              "}\n",
              "\n",
              "/**\n",
              " * Generator function which is called between each async step of the upload\n",
              " * process.\n",
              " * @param {string} inputId Element ID of the input file picker element.\n",
              " * @param {string} outputId Element ID of the output display.\n",
              " * @return {!Iterable<!Object>} Iterable of next steps.\n",
              " */\n",
              "function* uploadFilesStep(inputId, outputId) {\n",
              "  const inputElement = document.getElementById(inputId);\n",
              "  inputElement.disabled = false;\n",
              "\n",
              "  const outputElement = document.getElementById(outputId);\n",
              "  outputElement.innerHTML = '';\n",
              "\n",
              "  const pickedPromise = new Promise((resolve) => {\n",
              "    inputElement.addEventListener('change', (e) => {\n",
              "      resolve(e.target.files);\n",
              "    });\n",
              "  });\n",
              "\n",
              "  const cancel = document.createElement('button');\n",
              "  inputElement.parentElement.appendChild(cancel);\n",
              "  cancel.textContent = 'Cancel upload';\n",
              "  const cancelPromise = new Promise((resolve) => {\n",
              "    cancel.onclick = () => {\n",
              "      resolve(null);\n",
              "    };\n",
              "  });\n",
              "\n",
              "  // Wait for the user to pick the files.\n",
              "  const files = yield {\n",
              "    promise: Promise.race([pickedPromise, cancelPromise]),\n",
              "    response: {\n",
              "      action: 'starting',\n",
              "    }\n",
              "  };\n",
              "\n",
              "  cancel.remove();\n",
              "\n",
              "  // Disable the input element since further picks are not allowed.\n",
              "  inputElement.disabled = true;\n",
              "\n",
              "  if (!files) {\n",
              "    return {\n",
              "      response: {\n",
              "        action: 'complete',\n",
              "      }\n",
              "    };\n",
              "  }\n",
              "\n",
              "  for (const file of files) {\n",
              "    const li = document.createElement('li');\n",
              "    li.append(span(file.name, {fontWeight: 'bold'}));\n",
              "    li.append(span(\n",
              "        `(${file.type || 'n/a'}) - ${file.size} bytes, ` +\n",
              "        `last modified: ${\n",
              "            file.lastModifiedDate ? file.lastModifiedDate.toLocaleDateString() :\n",
              "                                    'n/a'} - `));\n",
              "    const percent = span('0% done');\n",
              "    li.appendChild(percent);\n",
              "\n",
              "    outputElement.appendChild(li);\n",
              "\n",
              "    const fileDataPromise = new Promise((resolve) => {\n",
              "      const reader = new FileReader();\n",
              "      reader.onload = (e) => {\n",
              "        resolve(e.target.result);\n",
              "      };\n",
              "      reader.readAsArrayBuffer(file);\n",
              "    });\n",
              "    // Wait for the data to be ready.\n",
              "    let fileData = yield {\n",
              "      promise: fileDataPromise,\n",
              "      response: {\n",
              "        action: 'continue',\n",
              "      }\n",
              "    };\n",
              "\n",
              "    // Use a chunked sending to avoid message size limits. See b/62115660.\n",
              "    let position = 0;\n",
              "    do {\n",
              "      const length = Math.min(fileData.byteLength - position, MAX_PAYLOAD_SIZE);\n",
              "      const chunk = new Uint8Array(fileData, position, length);\n",
              "      position += length;\n",
              "\n",
              "      const base64 = btoa(String.fromCharCode.apply(null, chunk));\n",
              "      yield {\n",
              "        response: {\n",
              "          action: 'append',\n",
              "          file: file.name,\n",
              "          data: base64,\n",
              "        },\n",
              "      };\n",
              "\n",
              "      let percentDone = fileData.byteLength === 0 ?\n",
              "          100 :\n",
              "          Math.round((position / fileData.byteLength) * 100);\n",
              "      percent.textContent = `${percentDone}% done`;\n",
              "\n",
              "    } while (position < fileData.byteLength);\n",
              "  }\n",
              "\n",
              "  // All done.\n",
              "  yield {\n",
              "    response: {\n",
              "      action: 'complete',\n",
              "    }\n",
              "  };\n",
              "}\n",
              "\n",
              "scope.google = scope.google || {};\n",
              "scope.google.colab = scope.google.colab || {};\n",
              "scope.google.colab._files = {\n",
              "  _uploadFiles,\n",
              "  _uploadFilesContinue,\n",
              "};\n",
              "})(self);\n",
              "</script> "
            ]
          },
          "metadata": {}
        },
        {
          "output_type": "stream",
          "name": "stdout",
          "text": [
            "Saving metadata_and_tfidf_4.csv to metadata_and_tfidf_4.csv\n"
          ]
        }
      ]
    },
    {
      "cell_type": "code",
      "source": [
        "#filename = 'only_tfidf.csv'\n",
        "#filename = 'Metadata Reformatted & Validated - Sheet1 (1).csv'\n",
        "#filename = 'merged_table_better.csv'\n",
        "filename = 'metadata_and_tfidf_4.csv'\n",
        "f = pd.read_csv(io.BytesIO(uploaded[filename]),encoding='unicode_escape')\n",
        "# Dataset is now stored in a Pandas Dataframe"
      ],
      "metadata": {
        "id": "ALrhi-OTSeFK"
      },
      "execution_count": null,
      "outputs": []
    },
    {
      "cell_type": "markdown",
      "source": [
        "# Processing Array"
      ],
      "metadata": {
        "id": "UvXEAnB5SieC"
      }
    },
    {
      "cell_type": "code",
      "source": [
        "#display(f)"
      ],
      "metadata": {
        "id": "XwYQyN8eSiBj"
      },
      "execution_count": null,
      "outputs": []
    },
    {
      "cell_type": "code",
      "source": [
        "#remove NaN values\n",
        "f = f.dropna()\n",
        "\n",
        "#turn into a numpy array\n",
        "arr = f.to_numpy()\n",
        "arr = np.delete(arr, 0, 0)\n",
        "indexmark = len(arr[1])"
      ],
      "metadata": {
        "id": "QG4xZTJ8SmCq"
      },
      "execution_count": null,
      "outputs": []
    },
    {
      "cell_type": "code",
      "source": [
        "#change into feature categories\n",
        "Y = arr[:,2]\n",
        "Y = Y.astype(int)\n",
        "#print(Y)\n",
        "X = arr[:,-(indexmark - 3):]\n",
        "X = X.astype(float)\n",
        "#print(X)\n",
        "#print(type(X[1][1]))"
      ],
      "metadata": {
        "id": "j-RZwsXhStPI"
      },
      "execution_count": null,
      "outputs": []
    },
    {
      "cell_type": "markdown",
      "source": [
        "# Loop"
      ],
      "metadata": {
        "id": "W8RotodmerRx"
      }
    },
    {
      "cell_type": "code",
      "source": [
        "loopcount = 5\n",
        "cnf_matrix = [[0,0],[0,0]]\n",
        "cnf_sum = [[0,0],[0,0]]\n",
        "for kjh in range(0,loopcount):\n",
        "  X_train, X_test, Y_train, Y_test = train_test_split(X, Y, test_size=0.2)\n",
        "  separator = SVC()\n",
        "  separator.fit(X_train, Y_train)\n",
        "\n",
        "  cnf_matrix = confusion_matrix(Y_test, separator.predict(X_test))\n",
        "\n",
        "  #calcuate the accuracy\n",
        "  accuracy = 0\n",
        "  for j in range(len(cnf_matrix)):\n",
        "      accuracy += cnf_matrix[j][j]\n",
        "\n",
        "  #print(\"Accuracy:\",accuracy/len(Y_test))\n",
        "\n",
        "  #ordered confusion matrix\n",
        "  #print(separator.classes_)\n",
        "  #print(confusion_matrix(Y_test, separator.predict(X_test)))\n",
        "\n",
        "  #Revisit plotting later\n",
        "\n",
        "  #Using Linear Kernel\n",
        "  svmlinear = SVC(kernel='linear', C=1.0)\n",
        "  svmlinear.fit(X_train, Y_train)\n",
        "  cnf_matrix = confusion_matrix(Y_test, svmlinear.predict(X_test))\n",
        "  accuracy = 0\n",
        "  for j in range(len(cnf_matrix)):\n",
        "      accuracy += cnf_matrix[j][j]\n",
        "  #print(\"Accuracy:\",accuracy/len(Y_test))\n",
        "  #Using Polynomial Kernel\n",
        "  svmpoly = SVC(kernel='poly', C=1.0, degree = 2)\n",
        "  svmpoly.fit(X_train, Y_train)\n",
        "  cnf_matrix = confusion_matrix(Y_test, svmpoly.predict(X_test))\n",
        "  accuracy = 0\n",
        "  for j in range(len(cnf_matrix)):\n",
        "      accuracy += cnf_matrix[j][j]\n",
        "  #print(\"Accuracy:\",accuracy/len(Y_test))\n",
        "  #Using Sigmoid Kernel\n",
        "  svmsig = SVC(kernel='sigmoid', C=1.0)\n",
        "  svmsig.fit(X_train, Y_train)\n",
        "  cnf_matrix = confusion_matrix(Y_test, svmsig.predict(X_test))\n",
        "  accuracy = 0\n",
        "  for j in range(len(cnf_matrix)):\n",
        "      accuracy += cnf_matrix[j][j]\n",
        "  #print(\"Accuracy:\",accuracy/len(Y_test))\n",
        "  \"\"\"\n",
        "  #Prediction with probability\n",
        "  print(naiveb.predict_proba(X_test))\n",
        "  \"\"\"\n",
        "  cnf_sum = cnf_sum + cnf_matrix\n",
        "\n",
        "cnf_sum = cnf_sum / loopcount\n",
        "plt.figure()\n",
        "disp = ConfusionMatrixDisplay(confusion_matrix=cnf_sum)\n",
        "disp.plot()\n",
        "plt.title(f\"SVM Confusion Matrix with \\n {filename}, n={loopcount}\")\n",
        "plt.show()\n",
        "\n",
        "print((cnf_sum[0,0]+cnf_sum[1,1]) / (cnf_sum[0,0]+cnf_sum[1,0]+cnf_sum[0,1]+cnf_sum[1,1]) )"
      ],
      "metadata": {
        "id": "K1p8isDea9Nf",
        "colab": {
          "base_uri": "https://localhost:8080/",
          "height": 528
        },
        "outputId": "7083c91c-eeda-47dd-8591-ac7da230a7ab"
      },
      "execution_count": null,
      "outputs": [
        {
          "output_type": "display_data",
          "data": {
            "text/plain": [
              "<Figure size 640x480 with 0 Axes>"
            ]
          },
          "metadata": {}
        },
        {
          "output_type": "display_data",
          "data": {
            "text/plain": [
              "<Figure size 640x480 with 2 Axes>"
            ],
            "image/png": "[encoded data removed]"
          },
          "metadata": {}
        },
        {
          "output_type": "stream",
          "name": "stdout",
          "text": [
            "0.5696969696969697\n"
          ]
        }
      ]
    },
    {
      "cell_type": "markdown",
      "source": [
        "# Training with SVM"
      ],
      "metadata": {
        "id": "BF00Y0kdS1ki"
      }
    },
    {
      "cell_type": "code",
      "source": [
        "#split the data into a 80/20 split\n",
        "X_train, X_test, Y_train, Y_test = train_test_split(X, Y, test_size=0.2)\n",
        "#print(type(X_train[1][4])) #check that its int"
      ],
      "metadata": {
        "id": "_ySX7RrgSwyO"
      },
      "execution_count": null,
      "outputs": []
    },
    {
      "cell_type": "code",
      "source": [
        "#default rbf kernel\n",
        "separator = SVC()\n",
        "separator.fit(X_train, Y_train)\n",
        "\n",
        "cnf_matrix = confusion_matrix(Y_test, separator.predict(X_test))\n",
        "\n",
        "#calcuate the accuracy\n",
        "accuracy = 0\n",
        "for j in range(len(cnf_matrix)):\n",
        "    accuracy += cnf_matrix[j][j]\n",
        "\n",
        "print(\"Accuracy:\",accuracy/len(Y_test))\n",
        "\n",
        "#ordered confusion matrix\n",
        "print(separator.classes_)\n",
        "print(confusion_matrix(Y_test, separator.predict(X_test)))\n",
        "\n",
        "#Revisit plotting later\n",
        "\n",
        "#Using Linear Kernel\n",
        "svmlinear = SVC(kernel='linear', C=1.0)\n",
        "svmlinear.fit(X_train, Y_train)\n",
        "cnf_matrix = confusion_matrix(Y_test, svmlinear.predict(X_test))\n",
        "accuracy = 0\n",
        "for j in range(len(cnf_matrix)):\n",
        "    accuracy += cnf_matrix[j][j]\n",
        "print(\"Accuracy:\",accuracy/len(Y_test))\n",
        "#Using Polynomial Kernel\n",
        "svmpoly = SVC(kernel='poly', C=1.0, degree = 2)\n",
        "svmpoly.fit(X_train, Y_train)\n",
        "cnf_matrix = confusion_matrix(Y_test, svmpoly.predict(X_test))\n",
        "accuracy = 0\n",
        "for j in range(len(cnf_matrix)):\n",
        "    accuracy += cnf_matrix[j][j]\n",
        "print(\"Accuracy:\",accuracy/len(Y_test))\n",
        "#Using Sigmoid Kernel\n",
        "svmsig = SVC(kernel='sigmoid', C=1.0)\n",
        "svmsig.fit(X_train, Y_train)\n",
        "cnf_matrix = confusion_matrix(Y_test, svmsig.predict(X_test))\n",
        "accuracy = 0\n",
        "for j in range(len(cnf_matrix)):\n",
        "    accuracy += cnf_matrix[j][j]\n",
        "print(\"Accuracy:\",accuracy/len(Y_test))\n",
        "\"\"\"\n",
        "#Prediction with probability\n",
        "print(naiveb.predict_proba(X_test))\n",
        "\"\"\""
      ],
      "metadata": {
        "colab": {
          "base_uri": "https://localhost:8080/",
          "height": 159
        },
        "id": "kaEwO96gYMXF",
        "outputId": "70422053-2b27-4d81-d850-65576bb96c61"
      },
      "execution_count": null,
      "outputs": [
        {
          "output_type": "stream",
          "name": "stdout",
          "text": [
            "Accuracy: 0.7575757575757576\n",
            "[0 1]\n",
            "[[10  6]\n",
            " [ 2 15]]\n",
            "Accuracy: 0.48484848484848486\n",
            "Accuracy: 0.6363636363636364\n",
            "Accuracy: 0.696969696969697\n"
          ]
        },
        {
          "output_type": "execute_result",
          "data": {
            "text/plain": [
              "'\\n#Prediction with probability\\nprint(naiveb.predict_proba(X_test))\\n'"
            ],
            "application/vnd.google.colaboratory.intrinsic+json": {
              "type": "string"
            }
          },
          "metadata": {},
          "execution_count": 8
        }
      ]
    },
    {
      "cell_type": "code",
      "source": [
        "#Saving the model for future uses\n",
        "import joblib\n",
        "joblib.dump(svmsig,'svmsig.pkl')\n",
        "\n",
        "#Re-use the model\n",
        "clf = joblib.load('svmsig.pkl')\n",
        "print(clf.predict(X_test))"
      ],
      "metadata": {
        "colab": {
          "base_uri": "https://localhost:8080/"
        },
        "id": "Xa_O0-uLYTuP",
        "outputId": "ccd22cf7-7a7b-448e-9b9d-a22c80097740"
      },
      "execution_count": null,
      "outputs": [
        {
          "output_type": "stream",
          "name": "stdout",
          "text": [
            "[1 1 0 1 0 1 0 0 1 1 1 0 0 1 0 1 0 1 0 0 0 1 1 0 1 0 1 1 1 1 0 1 1]\n"
          ]
        }
      ]
    },
    {
      "cell_type": "code",
      "source": [
        "import matplotlib.pyplot as plt\n",
        "plt.figure()\n",
        "from sklearn.metrics import ConfusionMatrixDisplay, confusion_matrix\n",
        "predictions = clf.predict(X_test)\n",
        "#cm = confusion_matrix(Y_test, predictions)#, labels=clf.classes_)\n",
        "disp = ConfusionMatrixDisplay(confusion_matrix=cnf_matrix)\n",
        "#print(neigh.predict_proba([[0.9]]))\n",
        "#cm.stats() #return oredered Dictionary\n",
        "#cm.stats()['overall']['Accuracy']\n",
        "disp.plot()\n",
        "plt.title(\"SVM Confusion Matrix with TF-IDF only\")\n",
        "plt.show()"
      ],
      "metadata": {
        "id": "zOpx2eFJVAQM",
        "colab": {
          "base_uri": "https://localhost:8080/",
          "height": 490
        },
        "outputId": "e426117b-3f6a-4eab-9444-93dc7f74e9d2"
      },
      "execution_count": null,
      "outputs": [
        {
          "output_type": "display_data",
          "data": {
            "text/plain": [
              "<Figure size 640x480 with 0 Axes>"
            ]
          },
          "metadata": {}
        },
        {
          "output_type": "display_data",
          "data": {
            "text/plain": [
              "<Figure size 640x480 with 2 Axes>"
            ],
            "image/png": "[encoded data removed]"
          },
          "metadata": {}
        }
      ]
    }
  ]
}
