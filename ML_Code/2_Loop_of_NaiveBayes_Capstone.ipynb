{
  "nbformat": 4,
  "nbformat_minor": 0,
  "metadata": {
    "colab": {
      "provenance": [],
      "authorship_tag": "ABX9TyOXvh7+6lERKmpb84vft9Td",
      "include_colab_link": true
    },
    "kernelspec": {
      "name": "python3",
      "display_name": "Python 3"
    },
    "language_info": {
      "name": "python"
    }
  },
  "cells": [
    {
      "cell_type": "markdown",
      "metadata": {
        "id": "view-in-github",
        "colab_type": "text"
      },
      "source": [
        "<a href=\"https://colab.research.google.com/github/Kathryn-Hise/Physics-Articles-ML/blob/main/2_Loop_of_NaiveBayes_Capstone.ipynb\" target=\"_parent\"><img src=\"https://colab.research.google.com/assets/colab-badge.svg\" alt=\"Open In Colab\"/></a>"
      ]
    },
    {
      "cell_type": "markdown",
      "source": [
        "# Imports"
      ],
      "metadata": {
        "id": "TttR0krpSY1z"
      }
    },
    {
      "cell_type": "code",
      "execution_count": null,
      "metadata": {
        "id": "XgpI1HaTSPix"
      },
      "outputs": [],
      "source": [
        "import numpy as np\n",
        "from sklearn.naive_bayes import GaussianNB\n",
        "from sklearn.model_selection import train_test_split\n",
        "from sklearn.metrics import confusion_matrix\n",
        "import pandas as pd\n",
        "import io\n",
        "import joblib\n",
        "import matplotlib.pyplot as plt\n",
        "from sklearn.metrics import ConfusionMatrixDisplay, confusion_matrix\n"
      ]
    },
    {
      "cell_type": "code",
      "source": [
        "from google.colab import files\n",
        "uploaded = files.upload()"
      ],
      "metadata": {
        "colab": {
          "base_uri": "https://localhost:8080/",
          "height": 73
        },
        "id": "QxxPXwEBSaY8",
        "outputId": "a2096c98-9af3-4df8-8b91-2231d9f7fcd9"
      },
      "execution_count": null,
      "outputs": [
        {
          "output_type": "display_data",
          "data": {
            "text/plain": [
              "<IPython.core.display.HTML object>"
            ],
            "text/html": [
              "\n",
              "     <input type=\"file\" id=\"files-e8432aba-27d1-407f-a6f7-a09026f8c5d7\" name=\"files[]\" multiple disabled\n",
              "        style=\"border:none\" />\n",
              "     <output id=\"result-e8432aba-27d1-407f-a6f7-a09026f8c5d7\">\n",
              "      Upload widget is only available when the cell has been executed in the\n",
              "      current browser session. Please rerun this cell to enable.\n",
              "      </output>\n",
              "      <script>// Copyright 2017 Google LLC\n",
              "//\n",
              "// Licensed under the Apache License, Version 2.0 (the \"License\");\n",
              "// you may not use this file except in compliance with the License.\n",
              "// You may obtain a copy of the License at\n",
              "//\n",
              "//      http://www.apache.org/licenses/LICENSE-2.0\n",
              "//\n",
              "// Unless required by applicable law or agreed to in writing, software\n",
              "// distributed under the License is distributed on an \"AS IS\" BASIS,\n",
              "// WITHOUT WARRANTIES OR CONDITIONS OF ANY KIND, either express or implied.\n",
              "// See the License for the specific language governing permissions and\n",
              "// limitations under the License.\n",
              "\n",
              "/**\n",
              " * @fileoverview Helpers for google.colab Python module.\n",
              " */\n",
              "(function(scope) {\n",
              "function span(text, styleAttributes = {}) {\n",
              "  const element = document.createElement('span');\n",
              "  element.textContent = text;\n",
              "  for (const key of Object.keys(styleAttributes)) {\n",
              "    element.style[key] = styleAttributes[key];\n",
              "  }\n",
              "  return element;\n",
              "}\n",
              "\n",
              "// Max number of bytes which will be uploaded at a time.\n",
              "const MAX_PAYLOAD_SIZE = 100 * 1024;\n",
              "\n",
              "function _uploadFiles(inputId, outputId) {\n",
              "  const steps = uploadFilesStep(inputId, outputId);\n",
              "  const outputElement = document.getElementById(outputId);\n",
              "  // Cache steps on the outputElement to make it available for the next call\n",
              "  // to uploadFilesContinue from Python.\n",
              "  outputElement.steps = steps;\n",
              "\n",
              "  return _uploadFilesContinue(outputId);\n",
              "}\n",
              "\n",
              "// This is roughly an async generator (not supported in the browser yet),\n",
              "// where there are multiple asynchronous steps and the Python side is going\n",
              "// to poll for completion of each step.\n",
              "// This uses a Promise to block the python side on completion of each step,\n",
              "// then passes the result of the previous step as the input to the next step.\n",
              "function _uploadFilesContinue(outputId) {\n",
              "  const outputElement = document.getElementById(outputId);\n",
              "  const steps = outputElement.steps;\n",
              "\n",
              "  const next = steps.next(outputElement.lastPromiseValue);\n",
              "  return Promise.resolve(next.value.promise).then((value) => {\n",
              "    // Cache the last promise value to make it available to the next\n",
              "    // step of the generator.\n",
              "    outputElement.lastPromiseValue = value;\n",
              "    return next.value.response;\n",
              "  });\n",
              "}\n",
              "\n",
              "/**\n",
              " * Generator function which is called between each async step of the upload\n",
              " * process.\n",
              " * @param {string} inputId Element ID of the input file picker element.\n",
              " * @param {string} outputId Element ID of the output display.\n",
              " * @return {!Iterable<!Object>} Iterable of next steps.\n",
              " */\n",
              "function* uploadFilesStep(inputId, outputId) {\n",
              "  const inputElement = document.getElementById(inputId);\n",
              "  inputElement.disabled = false;\n",
              "\n",
              "  const outputElement = document.getElementById(outputId);\n",
              "  outputElement.innerHTML = '';\n",
              "\n",
              "  const pickedPromise = new Promise((resolve) => {\n",
              "    inputElement.addEventListener('change', (e) => {\n",
              "      resolve(e.target.files);\n",
              "    });\n",
              "  });\n",
              "\n",
              "  const cancel = document.createElement('button');\n",
              "  inputElement.parentElement.appendChild(cancel);\n",
              "  cancel.textContent = 'Cancel upload';\n",
              "  const cancelPromise = new Promise((resolve) => {\n",
              "    cancel.onclick = () => {\n",
              "      resolve(null);\n",
              "    };\n",
              "  });\n",
              "\n",
              "  // Wait for the user to pick the files.\n",
              "  const files = yield {\n",
              "    promise: Promise.race([pickedPromise, cancelPromise]),\n",
              "    response: {\n",
              "      action: 'starting',\n",
              "    }\n",
              "  };\n",
              "\n",
              "  cancel.remove();\n",
              "\n",
              "  // Disable the input element since further picks are not allowed.\n",
              "  inputElement.disabled = true;\n",
              "\n",
              "  if (!files) {\n",
              "    return {\n",
              "      response: {\n",
              "        action: 'complete',\n",
              "      }\n",
              "    };\n",
              "  }\n",
              "\n",
              "  for (const file of files) {\n",
              "    const li = document.createElement('li');\n",
              "    li.append(span(file.name, {fontWeight: 'bold'}));\n",
              "    li.append(span(\n",
              "        `(${file.type || 'n/a'}) - ${file.size} bytes, ` +\n",
              "        `last modified: ${\n",
              "            file.lastModifiedDate ? file.lastModifiedDate.toLocaleDateString() :\n",
              "                                    'n/a'} - `));\n",
              "    const percent = span('0% done');\n",
              "    li.appendChild(percent);\n",
              "\n",
              "    outputElement.appendChild(li);\n",
              "\n",
              "    const fileDataPromise = new Promise((resolve) => {\n",
              "      const reader = new FileReader();\n",
              "      reader.onload = (e) => {\n",
              "        resolve(e.target.result);\n",
              "      };\n",
              "      reader.readAsArrayBuffer(file);\n",
              "    });\n",
              "    // Wait for the data to be ready.\n",
              "    let fileData = yield {\n",
              "      promise: fileDataPromise,\n",
              "      response: {\n",
              "        action: 'continue',\n",
              "      }\n",
              "    };\n",
              "\n",
              "    // Use a chunked sending to avoid message size limits. See b/62115660.\n",
              "    let position = 0;\n",
              "    do {\n",
              "      const length = Math.min(fileData.byteLength - position, MAX_PAYLOAD_SIZE);\n",
              "      const chunk = new Uint8Array(fileData, position, length);\n",
              "      position += length;\n",
              "\n",
              "      const base64 = btoa(String.fromCharCode.apply(null, chunk));\n",
              "      yield {\n",
              "        response: {\n",
              "          action: 'append',\n",
              "          file: file.name,\n",
              "          data: base64,\n",
              "        },\n",
              "      };\n",
              "\n",
              "      let percentDone = fileData.byteLength === 0 ?\n",
              "          100 :\n",
              "          Math.round((position / fileData.byteLength) * 100);\n",
              "      percent.textContent = `${percentDone}% done`;\n",
              "\n",
              "    } while (position < fileData.byteLength);\n",
              "  }\n",
              "\n",
              "  // All done.\n",
              "  yield {\n",
              "    response: {\n",
              "      action: 'complete',\n",
              "    }\n",
              "  };\n",
              "}\n",
              "\n",
              "scope.google = scope.google || {};\n",
              "scope.google.colab = scope.google.colab || {};\n",
              "scope.google.colab._files = {\n",
              "  _uploadFiles,\n",
              "  _uploadFilesContinue,\n",
              "};\n",
              "})(self);\n",
              "</script> "
            ]
          },
          "metadata": {}
        },
        {
          "output_type": "stream",
          "name": "stdout",
          "text": [
            "Saving merged_table_better.csv to merged_table_better.csv\n"
          ]
        }
      ]
    },
    {
      "cell_type": "code",
      "source": [
        "#filename = 'only_tfidf (1).csv'\n",
        "#filename = 'Metadata Reformatted & Validated - Sheet1 (1).csv'\n",
        "filename = 'merged_table_better.csv'\n",
        "#filename = 'metadata_and_tfidf_4.csv'\n",
        "f = pd.read_csv(io.BytesIO(uploaded[filename]),encoding='unicode_escape')\n",
        "# Dataset is now stored in a Pandas Dataframe"
      ],
      "metadata": {
        "id": "ALrhi-OTSeFK"
      },
      "execution_count": null,
      "outputs": []
    },
    {
      "cell_type": "markdown",
      "source": [
        "# Processing Array"
      ],
      "metadata": {
        "id": "UvXEAnB5SieC"
      }
    },
    {
      "cell_type": "code",
      "source": [
        "#display(f)"
      ],
      "metadata": {
        "id": "XwYQyN8eSiBj"
      },
      "execution_count": null,
      "outputs": []
    },
    {
      "cell_type": "code",
      "source": [
        "#remove NaN values\n",
        "f = f.dropna()\n",
        "\n",
        "#turn into a numpy array\n",
        "arr = f.to_numpy()\n",
        "arr = np.delete(arr, 0, 0)\n",
        "indexmark = len(arr[1])"
      ],
      "metadata": {
        "id": "QG4xZTJ8SmCq"
      },
      "execution_count": null,
      "outputs": []
    },
    {
      "cell_type": "code",
      "source": [
        "#change into feature categories\n",
        "Y = arr[:,2]\n",
        "Y = Y.astype(int)\n",
        "#print(Y)\n",
        "X = arr[:,-(indexmark - 3):]\n",
        "X = X.astype(float)\n",
        "#print(X)\n",
        "#print(type(X[1][1]))"
      ],
      "metadata": {
        "id": "j-RZwsXhStPI"
      },
      "execution_count": null,
      "outputs": []
    },
    {
      "cell_type": "code",
      "source": [
        "#split the data into a 80/20 split\n",
        "\n",
        "#print(type(X_train[1][4])) #check that its int"
      ],
      "metadata": {
        "id": "_ySX7RrgSwyO"
      },
      "execution_count": null,
      "outputs": []
    },
    {
      "cell_type": "code",
      "source": [
        "loopcount = 500\n",
        "cnf_matrix = [[0,0],[0,0]]\n",
        "cnf_sum = [[0,0],[0,0]]\n",
        "for kjh in range(0,loopcount):\n",
        "  X_train, X_test, Y_train, Y_test = train_test_split(X, Y, test_size=0.2)\n",
        "  naiveb = GaussianNB()\n",
        "  naiveb.fit(X_train, Y_train)\n",
        "\n",
        "  cnf_matrix = confusion_matrix(Y_test, naiveb.predict(X_test))\n",
        "\n",
        "  #calcuate the accuracy\n",
        "  accuracy = 0\n",
        "  for j in range(len(cnf_matrix)):\n",
        "      accuracy += cnf_matrix[j][j]\n",
        "\n",
        "  #print(\"Accuracy:\",accuracy/len(Y_test))\n",
        "\n",
        "  #ordered confusion matrix\n",
        "  #print(confusion_matrix(Y_test, naiveb.predict(X_test)))#,labels=[\"L\", \"B\", \"R\"]))\n",
        "  cnf_matrix =  confusion_matrix(Y_test, naiveb.predict(X_test))\n",
        "  cnf_sum = cnf_sum + cnf_matrix\n",
        "\n",
        "  #print(naiveb.predict(X_test))\n",
        "\n",
        "  #Prediction with probability\n",
        "  #print(naiveb.predict_proba(X_test))\n",
        "\n",
        "  #Saving the model for future uses\n",
        "  joblib.dump(naiveb,'naive.pkl')\n",
        "\n",
        "  #Re-use the model\n",
        "  clf = joblib.load('naive.pkl')\n",
        "  #print(clf.predict_proba(X_test))\n",
        "\n",
        "cnf_sum = cnf_sum / loopcount\n",
        "plt.figure()\n",
        "disp = ConfusionMatrixDisplay(confusion_matrix=cnf_sum)\n",
        "disp.plot()\n",
        "plt.title(f\"Naive Bayes Confusion Matrix with\\n {filename}, n={loopcount}\")\n",
        "plt.show()\n",
        "\n",
        "print((cnf_sum[0,0]+cnf_sum[1,1]) / (cnf_sum[0,0]+cnf_sum[1,0]+cnf_sum[0,1]+cnf_sum[1,1]) )"
      ],
      "metadata": {
        "colab": {
          "base_uri": "https://localhost:8080/",
          "height": 528
        },
        "id": "JbQQGtjjkssr",
        "outputId": "dfa5b57d-7081-4803-e15a-92c3b100fae0"
      },
      "execution_count": null,
      "outputs": [
        {
          "output_type": "display_data",
          "data": {
            "text/plain": [
              "<Figure size 640x480 with 0 Axes>"
            ]
          },
          "metadata": {}
        },
        {
          "output_type": "display_data",
          "data": {
            "text/plain": [
              "<Figure size 640x480 with 2 Axes>"
            ],
            "image/png": "[encoded data removed]"
          },
          "metadata": {}
        },
        {
          "output_type": "stream",
          "name": "stdout",
          "text": [
            "0.7188484848484848\n"
          ]
        }
      ]
    },
    {
      "cell_type": "markdown",
      "source": [
        "# Training with Naive Bayes"
      ],
      "metadata": {
        "id": "BF00Y0kdS1ki"
      }
    },
    {
      "cell_type": "code",
      "source": [
        "naiveb = GaussianNB()\n",
        "naiveb.fit(X_train, Y_train)\n",
        "\n",
        "cnf_matrix = confusion_matrix(Y_test, naiveb.predict(X_test))\n",
        "\n",
        "#calcuate the accuracy\n",
        "accuracy = 0\n",
        "for j in range(len(cnf_matrix)):\n",
        "    accuracy += cnf_matrix[j][j]\n",
        "\n",
        "print(\"Accuracy:\",accuracy/len(Y_test))\n",
        "\n",
        "#ordered confusion matrix\n",
        "print(confusion_matrix(Y_test, naiveb.predict(X_test)))#,labels=[\"L\", \"B\", \"R\"]))\n",
        "\n",
        "print(naiveb.predict(X_test))\n",
        "\n",
        "#Prediction with probability\n",
        "print(naiveb.predict_proba(X_test))\n",
        "\n",
        "#Saving the model for future uses\n",
        "import joblib\n",
        "joblib.dump(naiveb,'naive.pkl')\n",
        "\n",
        "#Re-use the model\n",
        "clf = joblib.load('naive.pkl')\n",
        "print(clf.predict_proba(X_test))"
      ],
      "metadata": {
        "colab": {
          "base_uri": "https://localhost:8080/"
        },
        "id": "hD5DZMoAS3Ym",
        "outputId": "7a5a0198-da3a-408e-c87c-54192cea22e0"
      },
      "execution_count": null,
      "outputs": [
        {
          "output_type": "stream",
          "name": "stdout",
          "text": [
            "Accuracy: 0.8484848484848485\n",
            "[[18  2]\n",
            " [ 3 10]]\n",
            "[1 1 1 0 1 0 0 0 0 1 0 1 0 1 0 0 0 0 0 1 0 0 0 0 0 1 0 1 1 0 0 0 1]\n",
            "[[4.56154362e-01 5.43845638e-01]\n",
            " [2.36057195e-02 9.76394280e-01]\n",
            " [2.34407789e-05 9.99976559e-01]\n",
            " [9.83787962e-01 1.62120377e-02]\n",
            " [7.33960358e-02 9.26603964e-01]\n",
            " [5.07930622e-01 4.92069378e-01]\n",
            " [8.69399892e-01 1.30600108e-01]\n",
            " [9.99999999e-01 9.65655283e-10]\n",
            " [9.99922133e-01 7.78666963e-05]\n",
            " [2.65682024e-03 9.97343180e-01]\n",
            " [7.74913639e-01 2.25086361e-01]\n",
            " [1.51874319e-20 1.00000000e+00]\n",
            " [5.35533701e-01 4.64466299e-01]\n",
            " [3.86507287e-01 6.13492713e-01]\n",
            " [9.99787410e-01 2.12589566e-04]\n",
            " [1.00000000e+00 5.03972679e-14]\n",
            " [1.00000000e+00 3.75826496e-30]\n",
            " [9.99999756e-01 2.44070309e-07]\n",
            " [9.99999733e-01 2.66767433e-07]\n",
            " [5.12958839e-13 1.00000000e+00]\n",
            " [8.65704948e-01 1.34295052e-01]\n",
            " [7.11900182e-01 2.88099818e-01]\n",
            " [9.97204714e-01 2.79528635e-03]\n",
            " [9.87187407e-01 1.28125931e-02]\n",
            " [9.52576181e-01 4.74238187e-02]\n",
            " [1.18874823e-05 9.99988113e-01]\n",
            " [9.99999967e-01 3.27044391e-08]\n",
            " [3.94986322e-01 6.05013678e-01]\n",
            " [3.43249650e-01 6.56750350e-01]\n",
            " [9.95503465e-01 4.49653514e-03]\n",
            " [5.44206583e-01 4.55793417e-01]\n",
            " [5.40777935e-01 4.59222065e-01]\n",
            " [1.33917718e-08 9.99999987e-01]]\n",
            "[[4.56154362e-01 5.43845638e-01]\n",
            " [2.36057195e-02 9.76394280e-01]\n",
            " [2.34407789e-05 9.99976559e-01]\n",
            " [9.83787962e-01 1.62120377e-02]\n",
            " [7.33960358e-02 9.26603964e-01]\n",
            " [5.07930622e-01 4.92069378e-01]\n",
            " [8.69399892e-01 1.30600108e-01]\n",
            " [9.99999999e-01 9.65655283e-10]\n",
            " [9.99922133e-01 7.78666963e-05]\n",
            " [2.65682024e-03 9.97343180e-01]\n",
            " [7.74913639e-01 2.25086361e-01]\n",
            " [1.51874319e-20 1.00000000e+00]\n",
            " [5.35533701e-01 4.64466299e-01]\n",
            " [3.86507287e-01 6.13492713e-01]\n",
            " [9.99787410e-01 2.12589566e-04]\n",
            " [1.00000000e+00 5.03972679e-14]\n",
            " [1.00000000e+00 3.75826496e-30]\n",
            " [9.99999756e-01 2.44070309e-07]\n",
            " [9.99999733e-01 2.66767433e-07]\n",
            " [5.12958839e-13 1.00000000e+00]\n",
            " [8.65704948e-01 1.34295052e-01]\n",
            " [7.11900182e-01 2.88099818e-01]\n",
            " [9.97204714e-01 2.79528635e-03]\n",
            " [9.87187407e-01 1.28125931e-02]\n",
            " [9.52576181e-01 4.74238187e-02]\n",
            " [1.18874823e-05 9.99988113e-01]\n",
            " [9.99999967e-01 3.27044391e-08]\n",
            " [3.94986322e-01 6.05013678e-01]\n",
            " [3.43249650e-01 6.56750350e-01]\n",
            " [9.95503465e-01 4.49653514e-03]\n",
            " [5.44206583e-01 4.55793417e-01]\n",
            " [5.40777935e-01 4.59222065e-01]\n",
            " [1.33917718e-08 9.99999987e-01]]\n"
          ]
        }
      ]
    },
    {
      "cell_type": "code",
      "source": [
        "import matplotlib.pyplot as plt\n",
        "plt.figure()\n",
        "from sklearn.metrics import ConfusionMatrixDisplay, confusion_matrix\n",
        "predictions = clf.predict(X_test)\n",
        "#cm = confusion_matrix(Y_test, predictions)#, labels=clf.classes_)\n",
        "disp = ConfusionMatrixDisplay(confusion_matrix=cnf_matrix)\n",
        "#print(neigh.predict_proba([[0.9]]))\n",
        "#cm.stats() #return oredered Dictionary\n",
        "#cm.stats()['overall']['Accuracy']\n",
        "disp.plot()\n",
        "plt.title(\"Naive Bayes Confusion Matrix with TF-IDF only\")\n",
        "plt.show()"
      ],
      "metadata": {
        "colab": {
          "base_uri": "https://localhost:8080/",
          "height": 490
        },
        "id": "zOpx2eFJVAQM",
        "outputId": "d403b04c-e698-4f1f-ec7e-d0965add2880"
      },
      "execution_count": null,
      "outputs": [
        {
          "output_type": "display_data",
          "data": {
            "text/plain": [
              "<Figure size 640x480 with 0 Axes>"
            ]
          },
          "metadata": {}
        },
        {
          "output_type": "display_data",
          "data": {
            "text/plain": [
              "<Figure size 640x480 with 2 Axes>"
            ],
            "image/png": "[encoded data removed]"
          },
          "metadata": {}
        }
      ]
    }
  ]
}
