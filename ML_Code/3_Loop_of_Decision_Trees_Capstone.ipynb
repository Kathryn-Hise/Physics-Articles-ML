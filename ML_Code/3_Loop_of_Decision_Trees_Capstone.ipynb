{
  "nbformat": 4,
  "nbformat_minor": 0,
  "metadata": {
    "colab": {
      "provenance": [],
      "collapsed_sections": [
        "BF00Y0kdS1ki"
      ],
      "authorship_tag": "ABX9TyNM0AsEP4zdNc/oPqWuMhxb",
      "include_colab_link": true
    },
    "kernelspec": {
      "name": "python3",
      "display_name": "Python 3"
    },
    "language_info": {
      "name": "python"
    }
  },
  "cells": [
    {
      "cell_type": "markdown",
      "metadata": {
        "id": "view-in-github",
        "colab_type": "text"
      },
      "source": [
        "<a href=\"https://colab.research.google.com/github/Kathryn-Hise/Physics-Articles-ML/blob/main/3_Loop_of_Decision_Trees_Capstone.ipynb\" target=\"_parent\"><img src=\"https://colab.research.google.com/assets/colab-badge.svg\" alt=\"Open In Colab\"/></a>"
      ]
    },
    {
      "cell_type": "markdown",
      "source": [
        "# Imports"
      ],
      "metadata": {
        "id": "TttR0krpSY1z"
      }
    },
    {
      "cell_type": "code",
      "execution_count": null,
      "metadata": {
        "id": "XgpI1HaTSPix"
      },
      "outputs": [],
      "source": [
        "import numpy as np\n",
        "from sklearn.naive_bayes import GaussianNB\n",
        "from sklearn.model_selection import train_test_split\n",
        "from sklearn.metrics import confusion_matrix\n",
        "import pandas as pd\n",
        "from sklearn import tree\n",
        "from sklearn.model_selection import train_test_split\n",
        "from sklearn.metrics import confusion_matrix\n",
        "import io\n",
        "import joblib\n",
        "import matplotlib.pyplot as plt\n",
        "from sklearn.metrics import ConfusionMatrixDisplay, confusion_matrix\n",
        "from  sklearn.ensemble import RandomForestClassifier\n",
        "import graphviz\n",
        "import pydotplus\n",
        "from sklearn.ensemble import BaggingClassifier"
      ]
    },
    {
      "cell_type": "code",
      "source": [
        "from google.colab import files\n",
        "uploaded = files.upload()"
      ],
      "metadata": {
        "colab": {
          "base_uri": "https://localhost:8080/",
          "height": 73
        },
        "id": "QxxPXwEBSaY8",
        "outputId": "63220fdc-6fd8-4334-9bdf-2d80b3d284d2"
      },
      "execution_count": null,
      "outputs": [
        {
          "output_type": "display_data",
          "data": {
            "text/plain": [
              "<IPython.core.display.HTML object>"
            ],
            "text/html": [
              "\n",
              "     <input type=\"file\" id=\"files-5ae2de78-a616-4c03-a686-7f7973f0f91c\" name=\"files[]\" multiple disabled\n",
              "        style=\"border:none\" />\n",
              "     <output id=\"result-5ae2de78-a616-4c03-a686-7f7973f0f91c\">\n",
              "      Upload widget is only available when the cell has been executed in the\n",
              "      current browser session. Please rerun this cell to enable.\n",
              "      </output>\n",
              "      <script>// Copyright 2017 Google LLC\n",
              "//\n",
              "// Licensed under the Apache License, Version 2.0 (the \"License\");\n",
              "// you may not use this file except in compliance with the License.\n",
              "// You may obtain a copy of the License at\n",
              "//\n",
              "//      http://www.apache.org/licenses/LICENSE-2.0\n",
              "//\n",
              "// Unless required by applicable law or agreed to in writing, software\n",
              "// distributed under the License is distributed on an \"AS IS\" BASIS,\n",
              "// WITHOUT WARRANTIES OR CONDITIONS OF ANY KIND, either express or implied.\n",
              "// See the License for the specific language governing permissions and\n",
              "// limitations under the License.\n",
              "\n",
              "/**\n",
              " * @fileoverview Helpers for google.colab Python module.\n",
              " */\n",
              "(function(scope) {\n",
              "function span(text, styleAttributes = {}) {\n",
              "  const element = document.createElement('span');\n",
              "  element.textContent = text;\n",
              "  for (const key of Object.keys(styleAttributes)) {\n",
              "    element.style[key] = styleAttributes[key];\n",
              "  }\n",
              "  return element;\n",
              "}\n",
              "\n",
              "// Max number of bytes which will be uploaded at a time.\n",
              "const MAX_PAYLOAD_SIZE = 100 * 1024;\n",
              "\n",
              "function _uploadFiles(inputId, outputId) {\n",
              "  const steps = uploadFilesStep(inputId, outputId);\n",
              "  const outputElement = document.getElementById(outputId);\n",
              "  // Cache steps on the outputElement to make it available for the next call\n",
              "  // to uploadFilesContinue from Python.\n",
              "  outputElement.steps = steps;\n",
              "\n",
              "  return _uploadFilesContinue(outputId);\n",
              "}\n",
              "\n",
              "// This is roughly an async generator (not supported in the browser yet),\n",
              "// where there are multiple asynchronous steps and the Python side is going\n",
              "// to poll for completion of each step.\n",
              "// This uses a Promise to block the python side on completion of each step,\n",
              "// then passes the result of the previous step as the input to the next step.\n",
              "function _uploadFilesContinue(outputId) {\n",
              "  const outputElement = document.getElementById(outputId);\n",
              "  const steps = outputElement.steps;\n",
              "\n",
              "  const next = steps.next(outputElement.lastPromiseValue);\n",
              "  return Promise.resolve(next.value.promise).then((value) => {\n",
              "    // Cache the last promise value to make it available to the next\n",
              "    // step of the generator.\n",
              "    outputElement.lastPromiseValue = value;\n",
              "    return next.value.response;\n",
              "  });\n",
              "}\n",
              "\n",
              "/**\n",
              " * Generator function which is called between each async step of the upload\n",
              " * process.\n",
              " * @param {string} inputId Element ID of the input file picker element.\n",
              " * @param {string} outputId Element ID of the output display.\n",
              " * @return {!Iterable<!Object>} Iterable of next steps.\n",
              " */\n",
              "function* uploadFilesStep(inputId, outputId) {\n",
              "  const inputElement = document.getElementById(inputId);\n",
              "  inputElement.disabled = false;\n",
              "\n",
              "  const outputElement = document.getElementById(outputId);\n",
              "  outputElement.innerHTML = '';\n",
              "\n",
              "  const pickedPromise = new Promise((resolve) => {\n",
              "    inputElement.addEventListener('change', (e) => {\n",
              "      resolve(e.target.files);\n",
              "    });\n",
              "  });\n",
              "\n",
              "  const cancel = document.createElement('button');\n",
              "  inputElement.parentElement.appendChild(cancel);\n",
              "  cancel.textContent = 'Cancel upload';\n",
              "  const cancelPromise = new Promise((resolve) => {\n",
              "    cancel.onclick = () => {\n",
              "      resolve(null);\n",
              "    };\n",
              "  });\n",
              "\n",
              "  // Wait for the user to pick the files.\n",
              "  const files = yield {\n",
              "    promise: Promise.race([pickedPromise, cancelPromise]),\n",
              "    response: {\n",
              "      action: 'starting',\n",
              "    }\n",
              "  };\n",
              "\n",
              "  cancel.remove();\n",
              "\n",
              "  // Disable the input element since further picks are not allowed.\n",
              "  inputElement.disabled = true;\n",
              "\n",
              "  if (!files) {\n",
              "    return {\n",
              "      response: {\n",
              "        action: 'complete',\n",
              "      }\n",
              "    };\n",
              "  }\n",
              "\n",
              "  for (const file of files) {\n",
              "    const li = document.createElement('li');\n",
              "    li.append(span(file.name, {fontWeight: 'bold'}));\n",
              "    li.append(span(\n",
              "        `(${file.type || 'n/a'}) - ${file.size} bytes, ` +\n",
              "        `last modified: ${\n",
              "            file.lastModifiedDate ? file.lastModifiedDate.toLocaleDateString() :\n",
              "                                    'n/a'} - `));\n",
              "    const percent = span('0% done');\n",
              "    li.appendChild(percent);\n",
              "\n",
              "    outputElement.appendChild(li);\n",
              "\n",
              "    const fileDataPromise = new Promise((resolve) => {\n",
              "      const reader = new FileReader();\n",
              "      reader.onload = (e) => {\n",
              "        resolve(e.target.result);\n",
              "      };\n",
              "      reader.readAsArrayBuffer(file);\n",
              "    });\n",
              "    // Wait for the data to be ready.\n",
              "    let fileData = yield {\n",
              "      promise: fileDataPromise,\n",
              "      response: {\n",
              "        action: 'continue',\n",
              "      }\n",
              "    };\n",
              "\n",
              "    // Use a chunked sending to avoid message size limits. See b/62115660.\n",
              "    let position = 0;\n",
              "    do {\n",
              "      const length = Math.min(fileData.byteLength - position, MAX_PAYLOAD_SIZE);\n",
              "      const chunk = new Uint8Array(fileData, position, length);\n",
              "      position += length;\n",
              "\n",
              "      const base64 = btoa(String.fromCharCode.apply(null, chunk));\n",
              "      yield {\n",
              "        response: {\n",
              "          action: 'append',\n",
              "          file: file.name,\n",
              "          data: base64,\n",
              "        },\n",
              "      };\n",
              "\n",
              "      let percentDone = fileData.byteLength === 0 ?\n",
              "          100 :\n",
              "          Math.round((position / fileData.byteLength) * 100);\n",
              "      percent.textContent = `${percentDone}% done`;\n",
              "\n",
              "    } while (position < fileData.byteLength);\n",
              "  }\n",
              "\n",
              "  // All done.\n",
              "  yield {\n",
              "    response: {\n",
              "      action: 'complete',\n",
              "    }\n",
              "  };\n",
              "}\n",
              "\n",
              "scope.google = scope.google || {};\n",
              "scope.google.colab = scope.google.colab || {};\n",
              "scope.google.colab._files = {\n",
              "  _uploadFiles,\n",
              "  _uploadFilesContinue,\n",
              "};\n",
              "})(self);\n",
              "</script> "
            ]
          },
          "metadata": {}
        },
        {
          "output_type": "stream",
          "name": "stdout",
          "text": [
            "Saving Metadata Reformatted & Validated - Sheet1 (1).csv to Metadata Reformatted & Validated - Sheet1 (1).csv\n"
          ]
        }
      ]
    },
    {
      "cell_type": "code",
      "source": [
        "#filename = 'only_tfidf.csv'\n",
        "filename = 'Metadata Reformatted & Validated - Sheet1 (1).csv'\n",
        "#filename = 'merged_table_better.csv'\n",
        "#filename = 'metadata_and_tfidf_4.csv'\n",
        "f = pd.read_csv(io.BytesIO(uploaded[filename]),encoding='unicode_escape')\n",
        "# Dataset is now stored in a Pandas Dataframe"
      ],
      "metadata": {
        "id": "ALrhi-OTSeFK"
      },
      "execution_count": null,
      "outputs": []
    },
    {
      "cell_type": "markdown",
      "source": [
        "# Processing Array"
      ],
      "metadata": {
        "id": "UvXEAnB5SieC"
      }
    },
    {
      "cell_type": "code",
      "source": [
        "#display(f)"
      ],
      "metadata": {
        "id": "XwYQyN8eSiBj"
      },
      "execution_count": null,
      "outputs": []
    },
    {
      "cell_type": "code",
      "source": [
        "#remove NaN values\n",
        "f = f.dropna()\n",
        "\n",
        "#turn into a numpy array\n",
        "arr = f.to_numpy()\n",
        "arr = np.delete(arr, 0, 0)\n",
        "indexmark = len(arr[1])"
      ],
      "metadata": {
        "id": "QG4xZTJ8SmCq"
      },
      "execution_count": null,
      "outputs": []
    },
    {
      "cell_type": "code",
      "source": [
        "#change into feature categories\n",
        "Y = arr[:,2]\n",
        "Y = Y.astype(int)\n",
        "#print(Y)\n",
        "X = arr[:,-(indexmark - 3):]\n",
        "X = X.astype(float)\n",
        "#print(X)\n",
        "#print(type(X[1][1]))"
      ],
      "metadata": {
        "id": "j-RZwsXhStPI"
      },
      "execution_count": null,
      "outputs": []
    },
    {
      "cell_type": "markdown",
      "source": [
        "# Loop\n"
      ],
      "metadata": {
        "id": "88BhfP9T94po"
      }
    },
    {
      "cell_type": "code",
      "source": [
        "loopcount = 500\n",
        "cnf_matrix = [[0,0],[0,0]]\n",
        "cnf_sum = [[0,0],[0,0]]\n",
        "for kjh in range(0,loopcount):\n",
        "  X_train, X_test, Y_train, Y_test = train_test_split(X, Y, test_size=0.2)\n",
        "  dst = tree.DecisionTreeClassifier()\n",
        "  dst.fit(X_train, Y_train)\n",
        "\n",
        "  cnf_matrix = confusion_matrix(Y_test, dst.predict(X_test))\n",
        "\n",
        "  #calcuate the accuracy\n",
        "  accuracy = 0\n",
        "  for j in range(len(cnf_matrix)):\n",
        "      accuracy += cnf_matrix[j][j]\n",
        "\n",
        "  #print(\"Accuracy:\",accuracy/len(Y_test))\n",
        "\n",
        "  #ordered confusion matrix\n",
        "  #print(confusion_matrix(Y_test, dst.predict(X_test)))#,labels=[\"M\", \"B\"]))\n",
        "\n",
        "  #Prediction with probability\n",
        "  #print(dst.predict_proba(X_test))\n",
        "\n",
        "  #feature names\n",
        "  features_names = [\"PubDate\",\"HasDate\",\"NoSources\",\"WordCount\",\"WordsPerSource\",\"NoAuthor\",\"NoImage\",\"NoVideos\"]\n",
        "\n",
        "  #plotting the tree\n",
        "  dot_data = tree.export_graphviz(dst, out_file=None,\n",
        "            filled=True, rounded=True, special_characters=True\n",
        "            )\n",
        "  graph = pydotplus.graph_from_dot_data(dot_data)\n",
        "  graph.write_png('tree.png')\n",
        "\n",
        "\n",
        "  #Bagging\n",
        "  #print(\"Bagging\")\n",
        "  max_acc = 0\n",
        "  best_size_bag = 0\n",
        "\n",
        "  for i in range(11,30):\n",
        "      bagging = BaggingClassifier(tree.DecisionTreeClassifier(),n_estimators = i)\n",
        "      bagging.fit(X_train, Y_train)\n",
        "      cnf_matrix2 = confusion_matrix(Y_test, bagging.predict(X_test))\n",
        "      accuracy = 0\n",
        "      for j in range(len(cnf_matrix2)):\n",
        "          accuracy += cnf_matrix2[j][j]\n",
        "      if accuracy > max_acc:\n",
        "          max_acc = accuracy\n",
        "          best_size_bag = i\n",
        "      #print(\"Size: \", i, \"Accuracy:\",accuracy/len(Y_test))\n",
        "\n",
        "  bagging = BaggingClassifier(tree.DecisionTreeClassifier(),n_estimators = best_size_bag)\n",
        "  bagging.fit(X_train, Y_train)\n",
        "  #print(bagging.predict(X_test))\n",
        "\n",
        "  #Random Forest\n",
        "  #print(\"Random Forest\")\n",
        "  max_acc = 0\n",
        "  best_size_forest = 0\n",
        "\n",
        "  for i in range(11,30):\n",
        "      forest = RandomForestClassifier(n_estimators = i)\n",
        "      forest.fit(X_train, Y_train)\n",
        "      cnf_matrix2 = confusion_matrix(Y_test, forest.predict(X_test))\n",
        "      accuracy = 0\n",
        "      for j in range(len(cnf_matrix2)):\n",
        "          accuracy += cnf_matrix2[j][j]\n",
        "      if accuracy > max_acc:\n",
        "          max_acc = accuracy\n",
        "          best_size_bag = i\n",
        "      #print(\"Size: \", i, \"Accuracy:\",accuracy/len(Y_test))\n",
        "\n",
        "  forest = RandomForestClassifier(n_estimators = best_size_bag)\n",
        "  forest.fit(X_train, Y_train)\n",
        "  #print(forest.predict(X_test))\n",
        "\n",
        "\n",
        "  #Saving the model for future uses\n",
        "  joblib.dump(dst,'dst.pkl')\n",
        "\n",
        "  #Re-use the model\n",
        "  clf = joblib.load('dst.pkl')\n",
        "  #print(clf.predict_proba(X_test))\n",
        "  cnf_sum = cnf_sum + cnf_matrix\n",
        "\n",
        "cnf_sum = cnf_sum / loopcount\n",
        "plt.figure()\n",
        "disp = ConfusionMatrixDisplay(confusion_matrix=cnf_sum)\n",
        "disp.plot()\n",
        "plt.title(f\"Decision Tree Confusion Matrix with \\n {filename}, n={loopcount}\")\n",
        "plt.show()\n",
        "\n",
        "print((cnf_sum[0,0]+cnf_sum[1,1]) / (cnf_sum[0,0]+cnf_sum[1,0]+cnf_sum[0,1]+cnf_sum[1,1]) )"
      ],
      "metadata": {
        "colab": {
          "base_uri": "https://localhost:8080/",
          "height": 528
        },
        "id": "9YWBbywR94WM",
        "outputId": "2f21c2fa-7e17-4275-f9e3-692fd859ed4e"
      },
      "execution_count": null,
      "outputs": [
        {
          "output_type": "display_data",
          "data": {
            "text/plain": [
              "<Figure size 640x480 with 0 Axes>"
            ]
          },
          "metadata": {}
        },
        {
          "output_type": "display_data",
          "data": {
            "text/plain": [
              "<Figure size 640x480 with 2 Axes>"
            ],
            "image/png": "[encoded data removed]"
          },
          "metadata": {}
        },
        {
          "output_type": "stream",
          "name": "stdout",
          "text": [
            "0.6843030303030303\n"
          ]
        }
      ]
    },
    {
      "cell_type": "markdown",
      "source": [
        "# Training with Decision Trees"
      ],
      "metadata": {
        "id": "BF00Y0kdS1ki"
      }
    },
    {
      "cell_type": "code",
      "source": [
        "#split the data into a 80/20 split\n",
        "X_train, X_test, Y_train, Y_test = train_test_split(X, Y, test_size=0.2)\n",
        "#print(type(X_train[1][4])) #check that its int"
      ],
      "metadata": {
        "id": "_ySX7RrgSwyO"
      },
      "execution_count": null,
      "outputs": []
    },
    {
      "cell_type": "code",
      "source": [
        "dst = tree.DecisionTreeClassifier()\n",
        "dst.fit(X_train, Y_train)\n",
        "\n",
        "cnf_matrix = confusion_matrix(Y_test, dst.predict(X_test))\n",
        "\n",
        "#calcuate the accuracy\n",
        "accuracy = 0\n",
        "for j in range(len(cnf_matrix)):\n",
        "    accuracy += cnf_matrix[j][j]\n",
        "\n",
        "print(\"Accuracy:\",accuracy/len(Y_test))\n",
        "\n",
        "#ordered confusion matrix\n",
        "print(confusion_matrix(Y_test, dst.predict(X_test)))#,labels=[\"M\", \"B\"]))\n",
        "\n",
        "#Prediction with probability\n",
        "print(dst.predict_proba(X_test))\n",
        "\n",
        "#feature names\n",
        "features_names = [\"PubDate\",\"HasDate\",\"NoSources\",\"WordCount\",\"WordsPerSource\",\"NoAuthor\",\"NoImage\",\"NoVideos\"]\n",
        "\n",
        "#plotting the tree\n",
        "import graphviz\n",
        "import pydotplus\n",
        "dot_data = tree.export_graphviz(dst, out_file=None,\n",
        "           filled=True, rounded=True, special_characters=True\n",
        "           )\n",
        "graph = pydotplus.graph_from_dot_data(dot_data)\n",
        "graph.write_png('tree.png')\n",
        "\n",
        "\n",
        "#Bagging\n",
        "print(\"Bagging\")\n",
        "from sklearn.ensemble import BaggingClassifier\n",
        "max_acc = 0\n",
        "best_size_bag = 0\n",
        "\n",
        "for i in range(11,30):\n",
        "    bagging = BaggingClassifier(tree.DecisionTreeClassifier(),n_estimators = i)\n",
        "    bagging.fit(X_train, Y_train)\n",
        "    cnf_matrix2 = confusion_matrix(Y_test, bagging.predict(X_test))\n",
        "    accuracy = 0\n",
        "    for j in range(len(cnf_matrix2)):\n",
        "        accuracy += cnf_matrix2[j][j]\n",
        "    if accuracy > max_acc:\n",
        "        max_acc = accuracy\n",
        "        best_size_bag = i\n",
        "    print(\"Size: \", i, \"Accuracy:\",accuracy/len(Y_test))\n",
        "\n",
        "bagging = BaggingClassifier(tree.DecisionTreeClassifier(),n_estimators = best_size_bag)\n",
        "bagging.fit(X_train, Y_train)\n",
        "print(bagging.predict(X_test))\n",
        "\n",
        "#Random Forest\n",
        "print(\"Random Forest\")\n",
        "from  sklearn.ensemble import RandomForestClassifier\n",
        "max_acc = 0\n",
        "best_size_forest = 0\n",
        "\n",
        "for i in range(11,30):\n",
        "    forest = RandomForestClassifier(n_estimators = i)\n",
        "    forest.fit(X_train, Y_train)\n",
        "    cnf_matrix2 = confusion_matrix(Y_test, forest.predict(X_test))\n",
        "    accuracy = 0\n",
        "    for j in range(len(cnf_matrix2)):\n",
        "        accuracy += cnf_matrix2[j][j]\n",
        "    if accuracy > max_acc:\n",
        "        max_acc = accuracy\n",
        "        best_size_bag = i\n",
        "    print(\"Size: \", i, \"Accuracy:\",accuracy/len(Y_test))\n",
        "\n",
        "forest = RandomForestClassifier(n_estimators = best_size_bag)\n",
        "forest.fit(X_train, Y_train)\n",
        "print(forest.predict(X_test))\n",
        "\n",
        "\n",
        "#Saving the model for future uses\n",
        "import joblib\n",
        "joblib.dump(dst,'dst.pkl')\n",
        "\n",
        "#Re-use the model\n",
        "clf = joblib.load('dst.pkl')\n",
        "print(clf.predict_proba(X_test))\n"
      ],
      "metadata": {
        "colab": {
          "base_uri": "https://localhost:8080/"
        },
        "id": "hD5DZMoAS3Ym",
        "outputId": "7fc0180b-6791-4af9-e767-c07d19639555"
      },
      "execution_count": null,
      "outputs": [
        {
          "output_type": "stream",
          "name": "stdout",
          "text": [
            "Accuracy: 0.6666666666666666\n",
            "[[13  4]\n",
            " [ 7  9]]\n",
            "[[1. 0.]\n",
            " [1. 0.]\n",
            " [1. 0.]\n",
            " [0. 1.]\n",
            " [1. 0.]\n",
            " [1. 0.]\n",
            " [0. 1.]\n",
            " [1. 0.]\n",
            " [1. 0.]\n",
            " [1. 0.]\n",
            " [1. 0.]\n",
            " [1. 0.]\n",
            " [1. 0.]\n",
            " [1. 0.]\n",
            " [0. 1.]\n",
            " [0. 1.]\n",
            " [0. 1.]\n",
            " [1. 0.]\n",
            " [1. 0.]\n",
            " [1. 0.]\n",
            " [1. 0.]\n",
            " [0. 1.]\n",
            " [0. 1.]\n",
            " [1. 0.]\n",
            " [0. 1.]\n",
            " [1. 0.]\n",
            " [0. 1.]\n",
            " [1. 0.]\n",
            " [0. 1.]\n",
            " [0. 1.]\n",
            " [0. 1.]\n",
            " [0. 1.]\n",
            " [1. 0.]]\n",
            "Bagging\n",
            "Size:  11 Accuracy: 0.7575757575757576\n",
            "Size:  12 Accuracy: 0.6666666666666666\n",
            "Size:  13 Accuracy: 0.8181818181818182\n",
            "Size:  14 Accuracy: 0.8181818181818182\n",
            "Size:  15 Accuracy: 0.7878787878787878\n",
            "Size:  16 Accuracy: 0.8484848484848485\n",
            "Size:  17 Accuracy: 0.7575757575757576\n",
            "Size:  18 Accuracy: 0.8484848484848485\n",
            "Size:  19 Accuracy: 0.7878787878787878\n",
            "Size:  20 Accuracy: 0.8181818181818182\n",
            "Size:  21 Accuracy: 0.7272727272727273\n",
            "Size:  22 Accuracy: 0.7575757575757576\n",
            "Size:  23 Accuracy: 0.8181818181818182\n",
            "Size:  24 Accuracy: 0.8181818181818182\n",
            "Size:  25 Accuracy: 0.7575757575757576\n",
            "Size:  26 Accuracy: 0.7575757575757576\n",
            "Size:  27 Accuracy: 0.7272727272727273\n",
            "Size:  28 Accuracy: 0.7878787878787878\n",
            "Size:  29 Accuracy: 0.7878787878787878\n",
            "[1 0 0 0 0 0 1 1 0 1 0 0 0 1 1 1 1 0 0 0 0 1 1 0 1 0 1 1 0 1 1 1 0]\n",
            "Random Forest\n",
            "Size:  11 Accuracy: 0.7272727272727273\n",
            "Size:  12 Accuracy: 0.7878787878787878\n",
            "Size:  13 Accuracy: 0.7272727272727273\n",
            "Size:  14 Accuracy: 0.7878787878787878\n",
            "Size:  15 Accuracy: 0.696969696969697\n",
            "Size:  16 Accuracy: 0.8484848484848485\n",
            "Size:  17 Accuracy: 0.8181818181818182\n",
            "Size:  18 Accuracy: 0.7878787878787878\n",
            "Size:  19 Accuracy: 0.7575757575757576\n",
            "Size:  20 Accuracy: 0.8181818181818182\n",
            "Size:  21 Accuracy: 0.7878787878787878\n",
            "Size:  22 Accuracy: 0.7878787878787878\n",
            "Size:  23 Accuracy: 0.8787878787878788\n",
            "Size:  24 Accuracy: 0.696969696969697\n",
            "Size:  25 Accuracy: 0.8181818181818182\n",
            "Size:  26 Accuracy: 0.7575757575757576\n",
            "Size:  27 Accuracy: 0.7575757575757576\n",
            "Size:  28 Accuracy: 0.8181818181818182\n",
            "Size:  29 Accuracy: 0.7575757575757576\n",
            "[1 0 0 0 1 0 1 1 0 1 0 0 0 1 1 1 1 0 0 0 0 0 1 0 1 0 0 1 0 1 0 1 0]\n",
            "[[1. 0.]\n",
            " [1. 0.]\n",
            " [1. 0.]\n",
            " [0. 1.]\n",
            " [1. 0.]\n",
            " [1. 0.]\n",
            " [0. 1.]\n",
            " [1. 0.]\n",
            " [1. 0.]\n",
            " [1. 0.]\n",
            " [1. 0.]\n",
            " [1. 0.]\n",
            " [1. 0.]\n",
            " [1. 0.]\n",
            " [0. 1.]\n",
            " [0. 1.]\n",
            " [0. 1.]\n",
            " [1. 0.]\n",
            " [1. 0.]\n",
            " [1. 0.]\n",
            " [1. 0.]\n",
            " [0. 1.]\n",
            " [0. 1.]\n",
            " [1. 0.]\n",
            " [0. 1.]\n",
            " [1. 0.]\n",
            " [0. 1.]\n",
            " [1. 0.]\n",
            " [0. 1.]\n",
            " [0. 1.]\n",
            " [0. 1.]\n",
            " [0. 1.]\n",
            " [1. 0.]]\n"
          ]
        }
      ]
    },
    {
      "cell_type": "code",
      "source": [
        "import matplotlib.pyplot as plt\n",
        "plt.figure()\n",
        "from sklearn.metrics import ConfusionMatrixDisplay, confusion_matrix\n",
        "predictions = clf.predict(X_test)\n",
        "#cm = confusion_matrix(Y_test, predictions)#, labels=clf.classes_)\n",
        "disp = ConfusionMatrixDisplay(confusion_matrix=cnf_matrix)\n",
        "#print(neigh.predict_proba([[0.9]]))\n",
        "#cm.stats() #return oredered Dictionary\n",
        "#cm.stats()['overall']['Accuracy']\n",
        "disp.plot()\n",
        "plt.title(\"Decision Tree Confusion Matrix with TF-IDF only\")\n",
        "plt.show()"
      ],
      "metadata": {
        "id": "zOpx2eFJVAQM",
        "colab": {
          "base_uri": "https://localhost:8080/",
          "height": 490
        },
        "outputId": "4b5e11a9-547f-4a2d-f614-70780d35e9dd"
      },
      "execution_count": null,
      "outputs": [
        {
          "output_type": "display_data",
          "data": {
            "text/plain": [
              "<Figure size 640x480 with 0 Axes>"
            ]
          },
          "metadata": {}
        },
        {
          "output_type": "display_data",
          "data": {
            "text/plain": [
              "<Figure size 640x480 with 2 Axes>"
            ],
            "image/png": "[encoded data removed]"
          },
          "metadata": {}
        }
      ]
    }
  ]
}
